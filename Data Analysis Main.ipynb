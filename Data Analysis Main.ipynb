{
  "metadata": {
    "kernelspec": {
      "name": "python",
      "display_name": "Python (Pyodide)",
      "language": "python"
    },
    "language_info": {
      "codemirror_mode": {
        "name": "python",
        "version": 3
      },
      "file_extension": ".py",
      "mimetype": "text/x-python",
      "name": "python",
      "nbconvert_exporter": "python",
      "pygments_lexer": "ipython3",
      "version": "3.8"
    }
  },
  "nbformat_minor": 5,
  "nbformat": 4,
  "cells": [
    {
      "id": "c4c27357",
      "cell_type": "markdown",
      "source": "# Data Analysis Project",
      "metadata": {}
    },
    {
      "id": "a58db5ed",
      "cell_type": "markdown",
      "source": "### Pandas API\nPandas is an open-source Python library with powerful and built-in methods to efficiently clean, analyze, and manipulate datasets. Developed by Wes McKinney in 2008, this powerful package can easily blend with various other data science modules in Python.\n\nPandas is built on top of the NumPy library, i.e., its data structures Series and DataFrame are the upgraded versions of NumPy arrays.",
      "metadata": {}
    },
    {
      "id": "2067763e",
      "cell_type": "code",
      "source": "import pandas as pd\nimport numpy as np\nimport matplotlib.pyplot as plt",
      "metadata": {
        "trusted": true
      },
      "outputs": [],
      "execution_count": 1
    },
    {
      "id": "0875943c",
      "cell_type": "markdown",
      "source": "Pandas conveniently provides a function to read and save excel files. ",
      "metadata": {}
    },
    {
      "id": "b470a561",
      "cell_type": "markdown",
      "source": "### Dataset Pre-analysis",
      "metadata": {}
    },
    {
      "id": "760243e4",
      "cell_type": "code",
      "source": "dataset = pd.read_excel(\"C:/Users/ms742/DataAnalysisProject/AQUASTAT Dataset.xlsx\")",
      "metadata": {
        "trusted": true
      },
      "outputs": [
        {
          "ename": "<class 'FileNotFoundError'>",
          "evalue": "[Errno 44] No such file or directory: 'notebooks/folder/AQUASTAT Dataset.xlsx'",
          "traceback": [
            "\u001b[0;31m---------------------------------------------------------------------------\u001b[0m",
            "\u001b[0;31mFileNotFoundError\u001b[0m                         Traceback (most recent call last)",
            "Cell \u001b[0;32mIn[9], line 3\u001b[0m\n\u001b[1;32m      1\u001b[0m \u001b[38;5;66;03m# dataset = pd.read_excel(\"C:/Users/ms742/DataAnalysisProject/AQUASTAT Dataset.xlsx\")\u001b[39;00m\n\u001b[0;32m----> 3\u001b[0m dataset \u001b[38;5;241m=\u001b[39m \u001b[43mpd\u001b[49m\u001b[38;5;241;43m.\u001b[39;49m\u001b[43mread_excel\u001b[49m\u001b[43m(\u001b[49m\u001b[38;5;124;43mr\u001b[39;49m\u001b[38;5;124;43m\"\u001b[39;49m\u001b[38;5;124;43mnotebooks/folder/AQUASTAT Dataset.xlsx\u001b[39;49m\u001b[38;5;124;43m\"\u001b[39;49m\u001b[43m)\u001b[49m\n",
            "File \u001b[0;32m/lib/python3.11/site-packages/pandas/util/_decorators.py:211\u001b[0m, in \u001b[0;36mdeprecate_kwarg.<locals>._deprecate_kwarg.<locals>.wrapper\u001b[0;34m(*args, **kwargs)\u001b[0m\n\u001b[1;32m    209\u001b[0m     \u001b[38;5;28;01melse\u001b[39;00m:\n\u001b[1;32m    210\u001b[0m         kwargs[new_arg_name] \u001b[38;5;241m=\u001b[39m new_arg_value\n\u001b[0;32m--> 211\u001b[0m \u001b[38;5;28;01mreturn\u001b[39;00m \u001b[43mfunc\u001b[49m\u001b[43m(\u001b[49m\u001b[38;5;241;43m*\u001b[39;49m\u001b[43margs\u001b[49m\u001b[43m,\u001b[49m\u001b[43m \u001b[49m\u001b[38;5;241;43m*\u001b[39;49m\u001b[38;5;241;43m*\u001b[39;49m\u001b[43mkwargs\u001b[49m\u001b[43m)\u001b[49m\n",
            "File \u001b[0;32m/lib/python3.11/site-packages/pandas/util/_decorators.py:331\u001b[0m, in \u001b[0;36mdeprecate_nonkeyword_arguments.<locals>.decorate.<locals>.wrapper\u001b[0;34m(*args, **kwargs)\u001b[0m\n\u001b[1;32m    325\u001b[0m \u001b[38;5;28;01mif\u001b[39;00m \u001b[38;5;28mlen\u001b[39m(args) \u001b[38;5;241m>\u001b[39m num_allow_args:\n\u001b[1;32m    326\u001b[0m     warnings\u001b[38;5;241m.\u001b[39mwarn(\n\u001b[1;32m    327\u001b[0m         msg\u001b[38;5;241m.\u001b[39mformat(arguments\u001b[38;5;241m=\u001b[39m_format_argument_list(allow_args)),\n\u001b[1;32m    328\u001b[0m         \u001b[38;5;167;01mFutureWarning\u001b[39;00m,\n\u001b[1;32m    329\u001b[0m         stacklevel\u001b[38;5;241m=\u001b[39mfind_stack_level(),\n\u001b[1;32m    330\u001b[0m     )\n\u001b[0;32m--> 331\u001b[0m \u001b[38;5;28;01mreturn\u001b[39;00m \u001b[43mfunc\u001b[49m\u001b[43m(\u001b[49m\u001b[38;5;241;43m*\u001b[39;49m\u001b[43margs\u001b[49m\u001b[43m,\u001b[49m\u001b[43m \u001b[49m\u001b[38;5;241;43m*\u001b[39;49m\u001b[38;5;241;43m*\u001b[39;49m\u001b[43mkwargs\u001b[49m\u001b[43m)\u001b[49m\n",
            "File \u001b[0;32m/lib/python3.11/site-packages/pandas/io/excel/_base.py:482\u001b[0m, in \u001b[0;36mread_excel\u001b[0;34m(io, sheet_name, header, names, index_col, usecols, squeeze, dtype, engine, converters, true_values, false_values, skiprows, nrows, na_values, keep_default_na, na_filter, verbose, parse_dates, date_parser, thousands, decimal, comment, skipfooter, convert_float, mangle_dupe_cols, storage_options)\u001b[0m\n\u001b[1;32m    480\u001b[0m \u001b[38;5;28;01mif\u001b[39;00m \u001b[38;5;129;01mnot\u001b[39;00m \u001b[38;5;28misinstance\u001b[39m(io, ExcelFile):\n\u001b[1;32m    481\u001b[0m     should_close \u001b[38;5;241m=\u001b[39m \u001b[38;5;28;01mTrue\u001b[39;00m\n\u001b[0;32m--> 482\u001b[0m     io \u001b[38;5;241m=\u001b[39m \u001b[43mExcelFile\u001b[49m\u001b[43m(\u001b[49m\u001b[43mio\u001b[49m\u001b[43m,\u001b[49m\u001b[43m \u001b[49m\u001b[43mstorage_options\u001b[49m\u001b[38;5;241;43m=\u001b[39;49m\u001b[43mstorage_options\u001b[49m\u001b[43m,\u001b[49m\u001b[43m \u001b[49m\u001b[43mengine\u001b[49m\u001b[38;5;241;43m=\u001b[39;49m\u001b[43mengine\u001b[49m\u001b[43m)\u001b[49m\n\u001b[1;32m    483\u001b[0m \u001b[38;5;28;01melif\u001b[39;00m engine \u001b[38;5;129;01mand\u001b[39;00m engine \u001b[38;5;241m!=\u001b[39m io\u001b[38;5;241m.\u001b[39mengine:\n\u001b[1;32m    484\u001b[0m     \u001b[38;5;28;01mraise\u001b[39;00m \u001b[38;5;167;01mValueError\u001b[39;00m(\n\u001b[1;32m    485\u001b[0m         \u001b[38;5;124m\"\u001b[39m\u001b[38;5;124mEngine should not be specified when passing \u001b[39m\u001b[38;5;124m\"\u001b[39m\n\u001b[1;32m    486\u001b[0m         \u001b[38;5;124m\"\u001b[39m\u001b[38;5;124man ExcelFile - ExcelFile already has the engine set\u001b[39m\u001b[38;5;124m\"\u001b[39m\n\u001b[1;32m    487\u001b[0m     )\n",
            "File \u001b[0;32m/lib/python3.11/site-packages/pandas/io/excel/_base.py:1652\u001b[0m, in \u001b[0;36mExcelFile.__init__\u001b[0;34m(self, path_or_buffer, engine, storage_options)\u001b[0m\n\u001b[1;32m   1650\u001b[0m     ext \u001b[38;5;241m=\u001b[39m \u001b[38;5;124m\"\u001b[39m\u001b[38;5;124mxls\u001b[39m\u001b[38;5;124m\"\u001b[39m\n\u001b[1;32m   1651\u001b[0m \u001b[38;5;28;01melse\u001b[39;00m:\n\u001b[0;32m-> 1652\u001b[0m     ext \u001b[38;5;241m=\u001b[39m \u001b[43minspect_excel_format\u001b[49m\u001b[43m(\u001b[49m\n\u001b[1;32m   1653\u001b[0m \u001b[43m        \u001b[49m\u001b[43mcontent_or_path\u001b[49m\u001b[38;5;241;43m=\u001b[39;49m\u001b[43mpath_or_buffer\u001b[49m\u001b[43m,\u001b[49m\u001b[43m \u001b[49m\u001b[43mstorage_options\u001b[49m\u001b[38;5;241;43m=\u001b[39;49m\u001b[43mstorage_options\u001b[49m\n\u001b[1;32m   1654\u001b[0m \u001b[43m    \u001b[49m\u001b[43m)\u001b[49m\n\u001b[1;32m   1655\u001b[0m     \u001b[38;5;28;01mif\u001b[39;00m ext \u001b[38;5;129;01mis\u001b[39;00m \u001b[38;5;28;01mNone\u001b[39;00m:\n\u001b[1;32m   1656\u001b[0m         \u001b[38;5;28;01mraise\u001b[39;00m \u001b[38;5;167;01mValueError\u001b[39;00m(\n\u001b[1;32m   1657\u001b[0m             \u001b[38;5;124m\"\u001b[39m\u001b[38;5;124mExcel file format cannot be determined, you must specify \u001b[39m\u001b[38;5;124m\"\u001b[39m\n\u001b[1;32m   1658\u001b[0m             \u001b[38;5;124m\"\u001b[39m\u001b[38;5;124man engine manually.\u001b[39m\u001b[38;5;124m\"\u001b[39m\n\u001b[1;32m   1659\u001b[0m         )\n",
            "File \u001b[0;32m/lib/python3.11/site-packages/pandas/io/excel/_base.py:1525\u001b[0m, in \u001b[0;36minspect_excel_format\u001b[0;34m(content_or_path, storage_options)\u001b[0m\n\u001b[1;32m   1522\u001b[0m \u001b[38;5;28;01mif\u001b[39;00m \u001b[38;5;28misinstance\u001b[39m(content_or_path, \u001b[38;5;28mbytes\u001b[39m):\n\u001b[1;32m   1523\u001b[0m     content_or_path \u001b[38;5;241m=\u001b[39m BytesIO(content_or_path)\n\u001b[0;32m-> 1525\u001b[0m \u001b[38;5;28;01mwith\u001b[39;00m \u001b[43mget_handle\u001b[49m\u001b[43m(\u001b[49m\n\u001b[1;32m   1526\u001b[0m \u001b[43m    \u001b[49m\u001b[43mcontent_or_path\u001b[49m\u001b[43m,\u001b[49m\u001b[43m \u001b[49m\u001b[38;5;124;43m\"\u001b[39;49m\u001b[38;5;124;43mrb\u001b[39;49m\u001b[38;5;124;43m\"\u001b[39;49m\u001b[43m,\u001b[49m\u001b[43m \u001b[49m\u001b[43mstorage_options\u001b[49m\u001b[38;5;241;43m=\u001b[39;49m\u001b[43mstorage_options\u001b[49m\u001b[43m,\u001b[49m\u001b[43m \u001b[49m\u001b[43mis_text\u001b[49m\u001b[38;5;241;43m=\u001b[39;49m\u001b[38;5;28;43;01mFalse\u001b[39;49;00m\n\u001b[1;32m   1527\u001b[0m \u001b[43m\u001b[49m\u001b[43m)\u001b[49m \u001b[38;5;28;01mas\u001b[39;00m handle:\n\u001b[1;32m   1528\u001b[0m     stream \u001b[38;5;241m=\u001b[39m handle\u001b[38;5;241m.\u001b[39mhandle\n\u001b[1;32m   1529\u001b[0m     stream\u001b[38;5;241m.\u001b[39mseek(\u001b[38;5;241m0\u001b[39m)\n",
            "File \u001b[0;32m/lib/python3.11/site-packages/pandas/io/common.py:865\u001b[0m, in \u001b[0;36mget_handle\u001b[0;34m(path_or_buf, mode, encoding, compression, memory_map, is_text, errors, storage_options)\u001b[0m\n\u001b[1;32m    856\u001b[0m         handle \u001b[38;5;241m=\u001b[39m \u001b[38;5;28mopen\u001b[39m(\n\u001b[1;32m    857\u001b[0m             handle,\n\u001b[1;32m    858\u001b[0m             ioargs\u001b[38;5;241m.\u001b[39mmode,\n\u001b[0;32m   (...)\u001b[0m\n\u001b[1;32m    861\u001b[0m             newline\u001b[38;5;241m=\u001b[39m\u001b[38;5;124m\"\u001b[39m\u001b[38;5;124m\"\u001b[39m,\n\u001b[1;32m    862\u001b[0m         )\n\u001b[1;32m    863\u001b[0m     \u001b[38;5;28;01melse\u001b[39;00m:\n\u001b[1;32m    864\u001b[0m         \u001b[38;5;66;03m# Binary mode\u001b[39;00m\n\u001b[0;32m--> 865\u001b[0m         handle \u001b[38;5;241m=\u001b[39m \u001b[38;5;28mopen\u001b[39m(handle, ioargs\u001b[38;5;241m.\u001b[39mmode)\n\u001b[1;32m    866\u001b[0m     handles\u001b[38;5;241m.\u001b[39mappend(handle)\n\u001b[1;32m    868\u001b[0m \u001b[38;5;66;03m# Convert BytesIO or file objects passed with an encoding\u001b[39;00m\n",
            "\u001b[0;31mFileNotFoundError\u001b[0m: [Errno 44] No such file or directory: 'notebooks/folder/AQUASTAT Dataset.xlsx'"
          ],
          "output_type": "error"
        }
      ],
      "execution_count": 9
    },
    {
      "id": "7ca06161",
      "cell_type": "markdown",
      "source": "Here is the first 10 rows of the dataset. The dataset is vertically sorted by the subgroup and variable and then every area or country is grouped together in ascending order of year.",
      "metadata": {}
    },
    {
      "id": "580a0b79",
      "cell_type": "code",
      "source": "dataset.head(10)",
      "metadata": {},
      "outputs": [
        {
          "data": {
            "text/html": [
              "<div>\n",
              "<style scoped>\n",
              "    .dataframe tbody tr th:only-of-type {\n",
              "        vertical-align: middle;\n",
              "    }\n",
              "\n",
              "    .dataframe tbody tr th {\n",
              "        vertical-align: top;\n",
              "    }\n",
              "\n",
              "    .dataframe thead th {\n",
              "        text-align: right;\n",
              "    }\n",
              "</style>\n",
              "<table border=\"1\" class=\"dataframe\">\n",
              "  <thead>\n",
              "    <tr style=\"text-align: right;\">\n",
              "      <th></th>\n",
              "      <th>VariableGroup</th>\n",
              "      <th>Subgroup</th>\n",
              "      <th>Variable</th>\n",
              "      <th>Area</th>\n",
              "      <th>Year</th>\n",
              "      <th>Value</th>\n",
              "      <th>Unit</th>\n",
              "      <th>Symbol</th>\n",
              "      <th>IsAggregate</th>\n",
              "    </tr>\n",
              "  </thead>\n",
              "  <tbody>\n",
              "    <tr>\n",
              "      <th>0</th>\n",
              "      <td>Environment and health</td>\n",
              "      <td>Access to improved drinking water source</td>\n",
              "      <td>Rural population with access to safe drinking-...</td>\n",
              "      <td>Afghanistan</td>\n",
              "      <td>2012</td>\n",
              "      <td>43.7</td>\n",
              "      <td>%</td>\n",
              "      <td>X</td>\n",
              "      <td>False</td>\n",
              "    </tr>\n",
              "    <tr>\n",
              "      <th>1</th>\n",
              "      <td>Environment and health</td>\n",
              "      <td>Access to improved drinking water source</td>\n",
              "      <td>Rural population with access to safe drinking-...</td>\n",
              "      <td>Afghanistan</td>\n",
              "      <td>2013</td>\n",
              "      <td>45.4</td>\n",
              "      <td>%</td>\n",
              "      <td>X</td>\n",
              "      <td>False</td>\n",
              "    </tr>\n",
              "    <tr>\n",
              "      <th>2</th>\n",
              "      <td>Environment and health</td>\n",
              "      <td>Access to improved drinking water source</td>\n",
              "      <td>Rural population with access to safe drinking-...</td>\n",
              "      <td>Afghanistan</td>\n",
              "      <td>2014</td>\n",
              "      <td>47.0</td>\n",
              "      <td>%</td>\n",
              "      <td>X</td>\n",
              "      <td>False</td>\n",
              "    </tr>\n",
              "    <tr>\n",
              "      <th>3</th>\n",
              "      <td>Environment and health</td>\n",
              "      <td>Access to improved drinking water source</td>\n",
              "      <td>Rural population with access to safe drinking-...</td>\n",
              "      <td>Afghanistan</td>\n",
              "      <td>2015</td>\n",
              "      <td>47.0</td>\n",
              "      <td>%</td>\n",
              "      <td>X</td>\n",
              "      <td>False</td>\n",
              "    </tr>\n",
              "    <tr>\n",
              "      <th>4</th>\n",
              "      <td>Environment and health</td>\n",
              "      <td>Access to improved drinking water source</td>\n",
              "      <td>Rural population with access to safe drinking-...</td>\n",
              "      <td>Afghanistan</td>\n",
              "      <td>2016</td>\n",
              "      <td>47.0</td>\n",
              "      <td>%</td>\n",
              "      <td>I</td>\n",
              "      <td>False</td>\n",
              "    </tr>\n",
              "    <tr>\n",
              "      <th>5</th>\n",
              "      <td>Environment and health</td>\n",
              "      <td>Access to improved drinking water source</td>\n",
              "      <td>Rural population with access to safe drinking-...</td>\n",
              "      <td>Afghanistan</td>\n",
              "      <td>2017</td>\n",
              "      <td>47.0</td>\n",
              "      <td>%</td>\n",
              "      <td>I</td>\n",
              "      <td>False</td>\n",
              "    </tr>\n",
              "    <tr>\n",
              "      <th>6</th>\n",
              "      <td>Environment and health</td>\n",
              "      <td>Access to improved drinking water source</td>\n",
              "      <td>Rural population with access to safe drinking-...</td>\n",
              "      <td>Afghanistan</td>\n",
              "      <td>2018</td>\n",
              "      <td>47.0</td>\n",
              "      <td>%</td>\n",
              "      <td>I</td>\n",
              "      <td>False</td>\n",
              "    </tr>\n",
              "    <tr>\n",
              "      <th>7</th>\n",
              "      <td>Environment and health</td>\n",
              "      <td>Access to improved drinking water source</td>\n",
              "      <td>Rural population with access to safe drinking-...</td>\n",
              "      <td>Afghanistan</td>\n",
              "      <td>2019</td>\n",
              "      <td>47.0</td>\n",
              "      <td>%</td>\n",
              "      <td>I</td>\n",
              "      <td>False</td>\n",
              "    </tr>\n",
              "    <tr>\n",
              "      <th>8</th>\n",
              "      <td>Environment and health</td>\n",
              "      <td>Access to improved drinking water source</td>\n",
              "      <td>Rural population with access to safe drinking-...</td>\n",
              "      <td>Afghanistan</td>\n",
              "      <td>2020</td>\n",
              "      <td>47.0</td>\n",
              "      <td>%</td>\n",
              "      <td>I</td>\n",
              "      <td>False</td>\n",
              "    </tr>\n",
              "    <tr>\n",
              "      <th>9</th>\n",
              "      <td>Environment and health</td>\n",
              "      <td>Access to improved drinking water source</td>\n",
              "      <td>Rural population with access to safe drinking-...</td>\n",
              "      <td>Afghanistan</td>\n",
              "      <td>2021</td>\n",
              "      <td>47.0</td>\n",
              "      <td>%</td>\n",
              "      <td>I</td>\n",
              "      <td>False</td>\n",
              "    </tr>\n",
              "  </tbody>\n",
              "</table>\n",
              "</div>"
            ],
            "text/plain": [
              "            VariableGroup                                  Subgroup  \\\n",
              "0  Environment and health  Access to improved drinking water source   \n",
              "1  Environment and health  Access to improved drinking water source   \n",
              "2  Environment and health  Access to improved drinking water source   \n",
              "3  Environment and health  Access to improved drinking water source   \n",
              "4  Environment and health  Access to improved drinking water source   \n",
              "5  Environment and health  Access to improved drinking water source   \n",
              "6  Environment and health  Access to improved drinking water source   \n",
              "7  Environment and health  Access to improved drinking water source   \n",
              "8  Environment and health  Access to improved drinking water source   \n",
              "9  Environment and health  Access to improved drinking water source   \n",
              "\n",
              "                                            Variable         Area  Year  \\\n",
              "0  Rural population with access to safe drinking-...  Afghanistan  2012   \n",
              "1  Rural population with access to safe drinking-...  Afghanistan  2013   \n",
              "2  Rural population with access to safe drinking-...  Afghanistan  2014   \n",
              "3  Rural population with access to safe drinking-...  Afghanistan  2015   \n",
              "4  Rural population with access to safe drinking-...  Afghanistan  2016   \n",
              "5  Rural population with access to safe drinking-...  Afghanistan  2017   \n",
              "6  Rural population with access to safe drinking-...  Afghanistan  2018   \n",
              "7  Rural population with access to safe drinking-...  Afghanistan  2019   \n",
              "8  Rural population with access to safe drinking-...  Afghanistan  2020   \n",
              "9  Rural population with access to safe drinking-...  Afghanistan  2021   \n",
              "\n",
              "   Value Unit Symbol  IsAggregate  \n",
              "0   43.7    %      X        False  \n",
              "1   45.4    %      X        False  \n",
              "2   47.0    %      X        False  \n",
              "3   47.0    %      X        False  \n",
              "4   47.0    %      I        False  \n",
              "5   47.0    %      I        False  \n",
              "6   47.0    %      I        False  \n",
              "7   47.0    %      I        False  \n",
              "8   47.0    %      I        False  \n",
              "9   47.0    %      I        False  "
            ]
          },
          "execution_count": 14,
          "metadata": {},
          "output_type": "execute_result"
        }
      ],
      "execution_count": 14
    },
    {
      "id": "ab775305",
      "cell_type": "code",
      "source": "dataset.info() # Function retrieves technical info",
      "metadata": {},
      "outputs": [
        {
          "name": "stdout",
          "output_type": "stream",
          "text": [
            "<class 'pandas.core.frame.DataFrame'>\n",
            "RangeIndex: 50000 entries, 0 to 49999\n",
            "Data columns (total 9 columns):\n",
            " #   Column         Non-Null Count  Dtype  \n",
            "---  ------         --------------  -----  \n",
            " 0   VariableGroup  50000 non-null  object \n",
            " 1   Subgroup       50000 non-null  object \n",
            " 2   Variable       50000 non-null  object \n",
            " 3   Area           50000 non-null  object \n",
            " 4   Year           50000 non-null  int64  \n",
            " 5   Value          50000 non-null  float64\n",
            " 6   Unit           43041 non-null  object \n",
            " 7   Symbol         50000 non-null  object \n",
            " 8   IsAggregate    50000 non-null  bool   \n",
            "dtypes: bool(1), float64(1), int64(1), object(6)\n",
            "memory usage: 3.1+ MB\n"
          ]
        }
      ],
      "execution_count": 15
    },
    {
      "id": "c303bcb6",
      "cell_type": "markdown",
      "source": "All of the entries listed as 'object' are character strings. The symbol 'I' means imputed, 'X' means external and 'E' means estimate. This indicates how the information was sourced. For the purposes of this project the symbol column shall be discarded and the isAggregate column also. 'isAggregate' is true if the area is a combination of multiple countries or regions such as 'South-east Asia'. A selection few countries shall be included in the cleaned dataset not regions; therefore the isAggregate is not necessary.",
      "metadata": {}
    },
    {
      "id": "a7cdd5b2",
      "cell_type": "markdown",
      "source": "### Dataset Filtering & Cleaning",
      "metadata": {}
    },
    {
      "id": "e4352c92-603b-4835-895e-64afac40aa66",
      "cell_type": "markdown",
      "source": "Pandas provides extensive tools of dataset manipulation.",
      "metadata": {}
    },
    {
      "id": "7a4d1749",
      "cell_type": "code",
      "source": "dataset_afghanistan = dataset[dataset[\"Area\"] == \"Afghanistan\"]",
      "metadata": {},
      "outputs": [],
      "execution_count": 24
    },
    {
      "id": "c0de82f6",
      "cell_type": "code",
      "source": "dataset_afghanistan",
      "metadata": {},
      "outputs": [
        {
          "data": {
            "text/html": [
              "<div>\n",
              "<style scoped>\n",
              "    .dataframe tbody tr th:only-of-type {\n",
              "        vertical-align: middle;\n",
              "    }\n",
              "\n",
              "    .dataframe tbody tr th {\n",
              "        vertical-align: top;\n",
              "    }\n",
              "\n",
              "    .dataframe thead th {\n",
              "        text-align: right;\n",
              "    }\n",
              "</style>\n",
              "<table border=\"1\" class=\"dataframe\">\n",
              "  <thead>\n",
              "    <tr style=\"text-align: right;\">\n",
              "      <th></th>\n",
              "      <th>VariableGroup</th>\n",
              "      <th>Subgroup</th>\n",
              "      <th>Variable</th>\n",
              "      <th>Area</th>\n",
              "      <th>Year</th>\n",
              "      <th>Value</th>\n",
              "      <th>Unit</th>\n",
              "      <th>Symbol</th>\n",
              "      <th>IsAggregate</th>\n",
              "    </tr>\n",
              "  </thead>\n",
              "  <tbody>\n",
              "    <tr>\n",
              "      <th>0</th>\n",
              "      <td>Environment and health</td>\n",
              "      <td>Access to improved drinking water source</td>\n",
              "      <td>Rural population with access to safe drinking-...</td>\n",
              "      <td>Afghanistan</td>\n",
              "      <td>2012</td>\n",
              "      <td>43.700000</td>\n",
              "      <td>%</td>\n",
              "      <td>X</td>\n",
              "      <td>False</td>\n",
              "    </tr>\n",
              "    <tr>\n",
              "      <th>1</th>\n",
              "      <td>Environment and health</td>\n",
              "      <td>Access to improved drinking water source</td>\n",
              "      <td>Rural population with access to safe drinking-...</td>\n",
              "      <td>Afghanistan</td>\n",
              "      <td>2013</td>\n",
              "      <td>45.400000</td>\n",
              "      <td>%</td>\n",
              "      <td>X</td>\n",
              "      <td>False</td>\n",
              "    </tr>\n",
              "    <tr>\n",
              "      <th>2</th>\n",
              "      <td>Environment and health</td>\n",
              "      <td>Access to improved drinking water source</td>\n",
              "      <td>Rural population with access to safe drinking-...</td>\n",
              "      <td>Afghanistan</td>\n",
              "      <td>2014</td>\n",
              "      <td>47.000000</td>\n",
              "      <td>%</td>\n",
              "      <td>X</td>\n",
              "      <td>False</td>\n",
              "    </tr>\n",
              "    <tr>\n",
              "      <th>3</th>\n",
              "      <td>Environment and health</td>\n",
              "      <td>Access to improved drinking water source</td>\n",
              "      <td>Rural population with access to safe drinking-...</td>\n",
              "      <td>Afghanistan</td>\n",
              "      <td>2015</td>\n",
              "      <td>47.000000</td>\n",
              "      <td>%</td>\n",
              "      <td>X</td>\n",
              "      <td>False</td>\n",
              "    </tr>\n",
              "    <tr>\n",
              "      <th>4</th>\n",
              "      <td>Environment and health</td>\n",
              "      <td>Access to improved drinking water source</td>\n",
              "      <td>Rural population with access to safe drinking-...</td>\n",
              "      <td>Afghanistan</td>\n",
              "      <td>2016</td>\n",
              "      <td>47.000000</td>\n",
              "      <td>%</td>\n",
              "      <td>I</td>\n",
              "      <td>False</td>\n",
              "    </tr>\n",
              "    <tr>\n",
              "      <th>...</th>\n",
              "      <td>...</td>\n",
              "      <td>...</td>\n",
              "      <td>...</td>\n",
              "      <td>...</td>\n",
              "      <td>...</td>\n",
              "      <td>...</td>\n",
              "      <td>...</td>\n",
              "      <td>...</td>\n",
              "      <td>...</td>\n",
              "    </tr>\n",
              "    <tr>\n",
              "      <th>49875</th>\n",
              "      <td>Irrigation and drainage development</td>\n",
              "      <td>Area equipped for irrigation by source of water</td>\n",
              "      <td>% of area equipped for irrigation by groundwater</td>\n",
              "      <td>Afghanistan</td>\n",
              "      <td>2017</td>\n",
              "      <td>17.992519</td>\n",
              "      <td>%</td>\n",
              "      <td>I</td>\n",
              "      <td>False</td>\n",
              "    </tr>\n",
              "    <tr>\n",
              "      <th>49876</th>\n",
              "      <td>Irrigation and drainage development</td>\n",
              "      <td>Area equipped for irrigation by source of water</td>\n",
              "      <td>% of area equipped for irrigation by groundwater</td>\n",
              "      <td>Afghanistan</td>\n",
              "      <td>2018</td>\n",
              "      <td>17.992519</td>\n",
              "      <td>%</td>\n",
              "      <td>I</td>\n",
              "      <td>False</td>\n",
              "    </tr>\n",
              "    <tr>\n",
              "      <th>49877</th>\n",
              "      <td>Irrigation and drainage development</td>\n",
              "      <td>Area equipped for irrigation by source of water</td>\n",
              "      <td>% of area equipped for irrigation by groundwater</td>\n",
              "      <td>Afghanistan</td>\n",
              "      <td>2019</td>\n",
              "      <td>17.992519</td>\n",
              "      <td>%</td>\n",
              "      <td>I</td>\n",
              "      <td>False</td>\n",
              "    </tr>\n",
              "    <tr>\n",
              "      <th>49878</th>\n",
              "      <td>Irrigation and drainage development</td>\n",
              "      <td>Area equipped for irrigation by source of water</td>\n",
              "      <td>% of area equipped for irrigation by groundwater</td>\n",
              "      <td>Afghanistan</td>\n",
              "      <td>2020</td>\n",
              "      <td>17.992519</td>\n",
              "      <td>%</td>\n",
              "      <td>I</td>\n",
              "      <td>False</td>\n",
              "    </tr>\n",
              "    <tr>\n",
              "      <th>49879</th>\n",
              "      <td>Irrigation and drainage development</td>\n",
              "      <td>Area equipped for irrigation by source of water</td>\n",
              "      <td>% of area equipped for irrigation by groundwater</td>\n",
              "      <td>Afghanistan</td>\n",
              "      <td>2021</td>\n",
              "      <td>17.992519</td>\n",
              "      <td>%</td>\n",
              "      <td>I</td>\n",
              "      <td>False</td>\n",
              "    </tr>\n",
              "  </tbody>\n",
              "</table>\n",
              "<p>259 rows × 9 columns</p>\n",
              "</div>"
            ],
            "text/plain": [
              "                             VariableGroup  \\\n",
              "0                   Environment and health   \n",
              "1                   Environment and health   \n",
              "2                   Environment and health   \n",
              "3                   Environment and health   \n",
              "4                   Environment and health   \n",
              "...                                    ...   \n",
              "49875  Irrigation and drainage development   \n",
              "49876  Irrigation and drainage development   \n",
              "49877  Irrigation and drainage development   \n",
              "49878  Irrigation and drainage development   \n",
              "49879  Irrigation and drainage development   \n",
              "\n",
              "                                              Subgroup  \\\n",
              "0             Access to improved drinking water source   \n",
              "1             Access to improved drinking water source   \n",
              "2             Access to improved drinking water source   \n",
              "3             Access to improved drinking water source   \n",
              "4             Access to improved drinking water source   \n",
              "...                                                ...   \n",
              "49875  Area equipped for irrigation by source of water   \n",
              "49876  Area equipped for irrigation by source of water   \n",
              "49877  Area equipped for irrigation by source of water   \n",
              "49878  Area equipped for irrigation by source of water   \n",
              "49879  Area equipped for irrigation by source of water   \n",
              "\n",
              "                                                Variable         Area  Year  \\\n",
              "0      Rural population with access to safe drinking-...  Afghanistan  2012   \n",
              "1      Rural population with access to safe drinking-...  Afghanistan  2013   \n",
              "2      Rural population with access to safe drinking-...  Afghanistan  2014   \n",
              "3      Rural population with access to safe drinking-...  Afghanistan  2015   \n",
              "4      Rural population with access to safe drinking-...  Afghanistan  2016   \n",
              "...                                                  ...          ...   ...   \n",
              "49875  % of area equipped for irrigation by groundwater   Afghanistan  2017   \n",
              "49876  % of area equipped for irrigation by groundwater   Afghanistan  2018   \n",
              "49877  % of area equipped for irrigation by groundwater   Afghanistan  2019   \n",
              "49878  % of area equipped for irrigation by groundwater   Afghanistan  2020   \n",
              "49879  % of area equipped for irrigation by groundwater   Afghanistan  2021   \n",
              "\n",
              "           Value Unit Symbol  IsAggregate  \n",
              "0      43.700000    %      X        False  \n",
              "1      45.400000    %      X        False  \n",
              "2      47.000000    %      X        False  \n",
              "3      47.000000    %      X        False  \n",
              "4      47.000000    %      I        False  \n",
              "...          ...  ...    ...          ...  \n",
              "49875  17.992519    %      I        False  \n",
              "49876  17.992519    %      I        False  \n",
              "49877  17.992519    %      I        False  \n",
              "49878  17.992519    %      I        False  \n",
              "49879  17.992519    %      I        False  \n",
              "\n",
              "[259 rows x 9 columns]"
            ]
          },
          "execution_count": 17,
          "metadata": {},
          "output_type": "execute_result"
        }
      ],
      "execution_count": 17
    },
    {
      "id": "425507f1",
      "cell_type": "markdown",
      "source": "As an example I can filter out for only the rows with the country Afghanistan.\n\nFor the purposes of this dataset I shall include 30 countries. A particular country is not selected for any important reason.",
      "metadata": {}
    },
    {
      "id": "d106a5fc",
      "cell_type": "code",
      "source": "countries = {\"Afghanistan\", \"Mongolia\", \"Iraq\", \"Italy\", \"Slovenia\", \"Tunisia\", \"France\", \"Bolivia\", \"Sudan\", \"Egypt\", \"Japan\", \"Burkina Faso\", \"Kenya\", \"Syria\", \"Azerbaijan\", \"Mexico\", \"Norway\", \"Türkiye\", \"Philipines\", \"Austrailia\", \"Russia\", \"Argentina\", \"Zambia\", \"Jamaica\", \"Finland\", \"Oman\", \"Brazil\", \"Nepal\", \"Vietnam\", \"Switzerland\"}\n\nprint(len(countries))",
      "metadata": {},
      "outputs": [
        {
          "name": "stdout",
          "output_type": "stream",
          "text": [
            "30\n"
          ]
        }
      ],
      "execution_count": 22
    },
    {
      "id": "4139a977",
      "cell_type": "code",
      "source": "dataset_filtered = dataset[dataset[\"Area\"].isin(countries)]",
      "metadata": {},
      "outputs": [],
      "execution_count": 25
    },
    {
      "id": "d3f48152",
      "cell_type": "code",
      "source": "dataset_filtered.info()",
      "metadata": {},
      "outputs": [
        {
          "name": "stdout",
          "output_type": "stream",
          "text": [
            "<class 'pandas.core.frame.DataFrame'>\n",
            "Int64Index: 6218 entries, 0 to 49979\n",
            "Data columns (total 9 columns):\n",
            " #   Column         Non-Null Count  Dtype  \n",
            "---  ------         --------------  -----  \n",
            " 0   VariableGroup  6218 non-null   object \n",
            " 1   Subgroup       6218 non-null   object \n",
            " 2   Variable       6218 non-null   object \n",
            " 3   Area           6218 non-null   object \n",
            " 4   Year           6218 non-null   int64  \n",
            " 5   Value          6218 non-null   float64\n",
            " 6   Unit           5286 non-null   object \n",
            " 7   Symbol         6218 non-null   object \n",
            " 8   IsAggregate    6218 non-null   bool   \n",
            "dtypes: bool(1), float64(1), int64(1), object(6)\n",
            "memory usage: 443.3+ KB\n"
          ]
        }
      ],
      "execution_count": 26
    },
    {
      "id": "85fe81f6",
      "cell_type": "code",
      "source": "dataset_filtered['Area'].nunique() # Confirming that there are 30 countries in the dataset.",
      "metadata": {},
      "outputs": [
        {
          "data": {
            "text/plain": [
              "24"
            ]
          },
          "execution_count": 27,
          "metadata": {},
          "output_type": "execute_result"
        }
      ],
      "execution_count": 27
    },
    {
      "id": "bf4bd289",
      "cell_type": "markdown",
      "source": "Initially this gave 24 countries instead of the 30 it should give.",
      "metadata": {}
    },
    {
      "id": "4966e82d",
      "cell_type": "code",
      "source": "for column in dataset_filtered.columns:\n    if column == 'VariableGroup':\n        unique_values = dataset_filtered[\"Area\"].unique()\n        print(f\"Unique values in column '{column}': {unique_values}\")",
      "metadata": {},
      "outputs": [
        {
          "name": "stdout",
          "output_type": "stream",
          "text": [
            "Unique values in column 'VariableGroup': ['Afghanistan' 'Argentina' 'Australia' 'Azerbaijan'\n",
            " 'Bolivia (Plurinational State of)' 'Brazil' 'Burkina Faso' 'Egypt'\n",
            " 'Finland' 'France' 'Iraq' 'Italy' 'Jamaica' 'Japan' 'Kenya' 'Mexico'\n",
            " 'Mongolia' 'Nepal' 'Norway' 'Oman' 'Philippines' 'Russian Federation'\n",
            " 'Slovenia' 'Sudan' 'Switzerland' 'Syrian Arab Republic' 'Tunisia'\n",
            " 'Türkiye' 'Viet Nam' 'Zambia']\n"
          ]
        }
      ],
      "execution_count": 78
    },
    {
      "id": "429a2c51",
      "cell_type": "code",
      "source": "# Bolivia (Plurinational State of), Syrian Arab Republic, Philippines, Russian Federation, Viet Nam, and Australia. Were misspelled.\n\ncountries = {\"Afghanistan\", \"Mongolia\", \"Iraq\", \"Italy\", \"Slovenia\", \"Tunisia\", \"France\", \"Bolivia (Plurinational State of)\", \"Sudan\", \"Egypt\", \"Japan\", \"Burkina Faso\", \"Kenya\", \"Syrian Arab Republic\", \"Azerbaijan\", \"Mexico\", \"Norway\", \"Türkiye\", \"Philippines\", \"Australia\", \"Russian Federation\", \"Argentina\", \"Zambia\", \"Jamaica\", \"Finland\", \"Oman\", \"Brazil\", \"Nepal\", \"Viet Nam\", \"Switzerland\"}\n\ndataset_filtered = dataset[dataset[\"Area\"].isin(countries)]\n\ndataset_filtered['Area'].nunique()",
      "metadata": {},
      "outputs": [
        {
          "data": {
            "text/plain": [
              "30"
            ]
          },
          "execution_count": 55,
          "metadata": {},
          "output_type": "execute_result"
        }
      ],
      "execution_count": 55
    },
    {
      "id": "440cfb75",
      "cell_type": "markdown",
      "source": "The error has been rectified, now the unneccsary columns shall be pruned.",
      "metadata": {}
    },
    {
      "id": "51ff3421",
      "cell_type": "code",
      "source": "dataset_filtered.drop(columns=['Symbol', 'IsAggregate'], inplace=True)",
      "metadata": {},
      "outputs": [],
      "execution_count": 57
    },
    {
      "id": "2c387eed",
      "cell_type": "code",
      "source": "dataset_filtered.info()",
      "metadata": {},
      "outputs": [
        {
          "name": "stdout",
          "output_type": "stream",
          "text": [
            "<class 'pandas.core.frame.DataFrame'>\n",
            "Int64Index: 7892 entries, 0 to 49979\n",
            "Data columns (total 7 columns):\n",
            " #   Column         Non-Null Count  Dtype  \n",
            "---  ------         --------------  -----  \n",
            " 0   VariableGroup  7892 non-null   object \n",
            " 1   Subgroup       7892 non-null   object \n",
            " 2   Variable       7892 non-null   object \n",
            " 3   Area           7892 non-null   object \n",
            " 4   Year           7892 non-null   int64  \n",
            " 5   Value          7892 non-null   float64\n",
            " 6   Unit           6726 non-null   object \n",
            "dtypes: float64(1), int64(1), object(5)\n",
            "memory usage: 493.2+ KB\n"
          ]
        }
      ],
      "execution_count": 58
    },
    {
      "id": "0e7a55a1",
      "cell_type": "markdown",
      "source": "### Preliminary Dataset Analysis",
      "metadata": {}
    },
    {
      "id": "57b74b8c",
      "cell_type": "markdown",
      "source": "I will be examining four statistics in the dataset access to safe drinking water, arable land, GDP per capita and undernourishment. This analysis will rank the statistics by descending order for each of the 30 countries. ",
      "metadata": {}
    },
    {
      "id": "b358251b",
      "cell_type": "markdown",
      "source": "#### Total population with access to safe drinking-water",
      "metadata": {}
    },
    {
      "id": "fd5c754e-aa42-47ab-94f6-7380491cb410",
      "cell_type": "markdown",
      "source": "I am mostly interested in water scarcity in each country so let's calculate the mean access to water for every country for every year included in the filtered dataset.",
      "metadata": {}
    },
    {
      "id": "363960fe",
      "cell_type": "code",
      "source": "# Filter the dataset for rows where 'Variable' is 'Access to safe drinking water'\nwater_access_dataset = dataset_filtered[dataset_filtered[\"Variable\"] == \"Total population with access to safe drinking-water (JMP)\"]",
      "metadata": {},
      "outputs": [],
      "execution_count": 60
    },
    {
      "id": "67d22973",
      "cell_type": "code",
      "source": "# Group by 'Area' and calculate the mean of 'Value'\nmean_access_to_water = water_access_dataset.groupby(\"Area\")[\"Value\"].mean()",
      "metadata": {},
      "outputs": [],
      "execution_count": 61
    },
    {
      "id": "68f8f25f",
      "cell_type": "code",
      "source": "# Displaying Results\nmean_access_to_water.sort_values(ascending=False, inplace=True) # Pandas library function for sorting series.",
      "metadata": {},
      "outputs": [],
      "execution_count": 76
    },
    {
      "id": "73599270",
      "cell_type": "code",
      "source": "mean_access_to_water",
      "metadata": {},
      "outputs": [
        {
          "data": {
            "text/plain": [
              "Area\n",
              "Italy                               100.00\n",
              "Norway                              100.00\n",
              "Japan                               100.00\n",
              "Switzerland                         100.00\n",
              "Australia                           100.00\n",
              "France                              100.00\n",
              "Finland                             100.00\n",
              "Türkiye                              99.93\n",
              "Slovenia                             99.50\n",
              "Egypt                                99.29\n",
              "Argentina                            99.00\n",
              "Brazil                               98.01\n",
              "Tunisia                              97.58\n",
              "Russian Federation                   96.86\n",
              "Viet Nam                             96.85\n",
              "Mexico                               95.95\n",
              "Jamaica                              93.80\n",
              "Oman                                 93.38\n",
              "Philippines                          91.60\n",
              "Nepal                                91.06\n",
              "Syrian Arab Republic                 90.10\n",
              "Bolivia (Plurinational State of)     89.77\n",
              "Iraq                                 86.54\n",
              "Azerbaijan                           86.50\n",
              "Burkina Faso                         82.18\n",
              "Zambia                               64.92\n",
              "Mongolia                             64.27\n",
              "Kenya                                62.94\n",
              "Sudan                                55.50\n",
              "Afghanistan                          54.73\n",
              "Name: Value, dtype: float64"
            ]
          },
          "execution_count": 77,
          "metadata": {},
          "output_type": "execute_result"
        }
      ],
      "execution_count": 77
    },
    {
      "id": "dce23121",
      "cell_type": "markdown",
      "source": "mean_access_to_water.plot()",
      "metadata": {}
    },
    {
      "id": "55c11173",
      "cell_type": "code",
      "source": "mean_access_to_water.plot.bar(xlabel='Area', ylabel='Total Population Access to Water %', color=['green','orange','teal'])",
      "metadata": {},
      "outputs": [
        {
          "data": {
            "text/plain": [
              "<AxesSubplot:xlabel='Area', ylabel='Total Population Access to Water %'>"
            ]
          },
          "execution_count": 89,
          "metadata": {},
          "output_type": "execute_result"
        },
        {
          "data": {
            "image/png": "[encoded data removed]",
            "text/plain": [
              "<Figure size 432x288 with 1 Axes>"
            ]
          },
          "metadata": {
            "needs_background": "light"
          },
          "output_type": "display_data"
        }
      ],
      "execution_count": 89
    },
    {
      "id": "eaa7d0fd",
      "cell_type": "markdown",
      "source": "The same process of data analysis will be repeated for Arable land area, Prevalence of undernourishment and GDP per capita.",
      "metadata": {}
    },
    {
      "id": "38397668",
      "cell_type": "markdown",
      "source": "#### Peak Arable land area",
      "metadata": {}
    },
    {
      "id": "db3e1e79",
      "cell_type": "code",
      "source": "# Filter the dataset for rows where 'Variable' is 'Arable land'\narable_land_dataset = dataset_filtered[dataset_filtered[\"Variable\"] == \"Arable land area\"]\n\n# Group by 'Area' and calculate the maximum of 'Value'\nmax_arable_land_area = arable_land_dataset.groupby(\"Area\")[\"Value\"].max()\n\n# Displaying Results\nmax_arable_land_area.sort_values(ascending=False, inplace=True) # Pandas library function for sorting series.",
      "metadata": {},
      "outputs": [],
      "execution_count": 100
    },
    {
      "id": "adfc23a1",
      "cell_type": "code",
      "source": "max_arable_land_area",
      "metadata": {},
      "outputs": [
        {
          "data": {
            "text/plain": [
              "Area\n",
              "Russian Federation                  121649.0000\n",
              "Brazil                               58252.7600\n",
              "Argentina                            42208.7597\n",
              "Australia                            31960.3000\n",
              "Mexico                               22552.0000\n",
              "Sudan                                20994.8400\n",
              "Türkiye                              20699.0000\n",
              "France                               18478.7000\n",
              "Afghanistan                           7829.0000\n",
              "Italy                                 7199.4140\n",
              "Viet Nam                              7002.8000\n",
              "Burkina Faso                          6100.0000\n",
              "Kenya                                 5800.0000\n",
              "Philippines                           5590.0000\n",
              "Iraq                                  4969.0000\n",
              "Bolivia (Plurinational State of)      4868.3672\n",
              "Syrian Arab Republic                  4668.4500\n",
              "Japan                                 4246.0000\n",
              "Zambia                                3800.0000\n",
              "Egypt                                 3365.0000\n",
              "Tunisia                               2853.0000\n",
              "Finland                               2249.1000\n",
              "Nepal                                 2118.0000\n",
              "Azerbaijan                            2097.9000\n",
              "Mongolia                              1340.4799\n",
              "Norway                                 811.9000\n",
              "Switzerland                            403.0177\n",
              "Slovenia                               184.9600\n",
              "Jamaica                                120.0000\n",
              "Oman                                    82.6100\n",
              "Name: Value, dtype: float64"
            ]
          },
          "execution_count": 101,
          "metadata": {},
          "output_type": "execute_result"
        }
      ],
      "execution_count": 101
    },
    {
      "id": "7ae55804",
      "cell_type": "code",
      "source": "max_arable_land_area.plot.bar(xlabel='Area', ylabel='Mean Arable Land (1000ha)', color=['green','orange','teal'])",
      "metadata": {},
      "outputs": [
        {
          "data": {
            "text/plain": [
              "<AxesSubplot:xlabel='Area', ylabel='Mean Arable Land (1000ha)'>"
            ]
          },
          "execution_count": 106,
          "metadata": {},
          "output_type": "execute_result"
        },
        {
          "data": {
            "image/png": "[encoded data removed]",
            "text/plain": [
              "<Figure size 432x288 with 1 Axes>"
            ]
          },
          "metadata": {
            "needs_background": "light"
          },
          "output_type": "display_data"
        }
      ],
      "execution_count": 106
    },
    {
      "id": "0731729e",
      "cell_type": "markdown",
      "source": "#### Prevalence of undernourishment\n",
      "metadata": {}
    },
    {
      "id": "289d4678",
      "cell_type": "code",
      "source": "# Filter the dataset for rows where 'Variable' is 'Prevalence of undernourishment'\nundernourishment_dataset = dataset_filtered[dataset_filtered[\"Variable\"] == \"Prevalence of undernourishment (3-year average)\"]\n\n# Group by 'Area' and calculate the mean of 'Value'\nprevalence_of_undernourishment = undernourishment_dataset.groupby(\"Area\")[\"Value\"].mean()\n\n# Displaying Results\nprevalence_of_undernourishment.sort_values(ascending=False, inplace=True) # Pandas library function for sorting series.",
      "metadata": {},
      "outputs": [],
      "execution_count": 97
    },
    {
      "id": "d91ab7d0",
      "cell_type": "code",
      "source": "prevalence_of_undernourishment",
      "metadata": {},
      "outputs": [
        {
          "data": {
            "text/plain": [
              "Area\n",
              "Zambia                              33.21\n",
              "Afghanistan                         22.77\n",
              "Kenya                               20.81\n",
              "Iraq                                16.69\n",
              "Bolivia (Plurinational State of)    16.04\n",
              "Syrian Arab Republic                14.20\n",
              "Burkina Faso                        13.89\n",
              "Sudan                               11.38\n",
              "Philippines                          8.48\n",
              "Mongolia                             8.26\n",
              "Jamaica                              7.49\n",
              "Viet Nam                             6.87\n",
              "Nepal                                6.37\n",
              "Egypt                                5.80\n",
              "Oman                                 5.15\n",
              "Mexico                               3.99\n",
              "Argentina                            3.14\n",
              "Tunisia                              2.87\n",
              "Brazil                               2.83\n",
              "Japan                                2.70\n",
              "Russian Federation                   2.60\n",
              "Azerbaijan                           2.50\n",
              "Name: Value, dtype: float64"
            ]
          },
          "execution_count": 98,
          "metadata": {},
          "output_type": "execute_result"
        }
      ],
      "execution_count": 98
    },
    {
      "id": "fb3f458f",
      "cell_type": "code",
      "source": "prevalence_of_undernourishment.plot.bar(xlabel='Area', ylabel='Prevalence Of Undernourishment %', color=['green','orange','teal'])",
      "metadata": {},
      "outputs": [
        {
          "data": {
            "text/plain": [
              "<AxesSubplot:xlabel='Area', ylabel='Prevalence Of Undernourishment %'>"
            ]
          },
          "execution_count": 105,
          "metadata": {},
          "output_type": "execute_result"
        },
        {
          "data": {
            "image/png": "[encoded data removed]",
            "text/plain": [
              "<Figure size 432x288 with 1 Axes>"
            ]
          },
          "metadata": {
            "needs_background": "light"
          },
          "output_type": "display_data"
        }
      ],
      "execution_count": 105
    },
    {
      "id": "3a471619",
      "cell_type": "markdown",
      "source": "#### GDP per capita",
      "metadata": {}
    },
    {
      "id": "b6275f22",
      "cell_type": "code",
      "source": "# Filter the dataset for rows where 'Variable' is 'Prevalence of undernourishment'\nGDP_per_capita_dataset = dataset_filtered[dataset_filtered[\"Variable\"] == \"GDP per capita\"]\n\n# Group by 'Area' and calculate the mean of 'Value'\nmean_GDP_per_capita = GDP_per_capita_dataset.groupby(\"Area\")[\"Value\"].mean()\n\n# Displaying Results\nmean_GDP_per_capita.sort_values(ascending=False, inplace=True) # Pandas library function for sorting series.",
      "metadata": {},
      "outputs": [],
      "execution_count": 107
    },
    {
      "id": "f6f30c50",
      "cell_type": "code",
      "source": "mean_GDP_per_capita",
      "metadata": {},
      "outputs": [
        {
          "data": {
            "text/plain": [
              "Area\n",
              "Switzerland                         86790.644733\n",
              "Norway                              83620.797496\n",
              "Australia                           59804.341873\n",
              "Finland                             48232.820195\n",
              "France                              42163.672576\n",
              "Japan                               40208.014877\n",
              "Italy                               33641.545654\n",
              "Slovenia                            24113.441148\n",
              "Oman                                20030.689348\n",
              "Argentina                           12500.070320\n",
              "Russian Federation                  12010.068161\n",
              "Türkiye                             10500.195235\n",
              "Mexico                               9908.360674\n",
              "Brazil                               9632.475169\n",
              "Azerbaijan                           5481.283868\n",
              "Iraq                                 5287.380230\n",
              "Jamaica                              5218.655703\n",
              "Mongolia                             4146.589717\n",
              "Tunisia                              3842.077253\n",
              "Bolivia (Plurinational State of)     3106.528706\n",
              "Philippines                          3083.863317\n",
              "Egypt                                2972.321009\n",
              "Viet Nam                             2420.720593\n",
              "Kenya                                1666.273903\n",
              "Sudan                                1663.042106\n",
              "Zambia                               1397.974189\n",
              "Syrian Arab Republic                 1163.414699\n",
              "Nepal                                 932.620980\n",
              "Burkina Faso                          754.876285\n",
              "Afghanistan                           534.460160\n",
              "Name: Value, dtype: float64"
            ]
          },
          "execution_count": 108,
          "metadata": {},
          "output_type": "execute_result"
        }
      ],
      "execution_count": 108
    },
    {
      "id": "1eee4913",
      "cell_type": "code",
      "source": "mean_GDP_per_capita.plot.bar(xlabel='Area', ylabel='Prevalence Of Undernourishment %', color=['green','orange','teal'])",
      "metadata": {},
      "outputs": [
        {
          "data": {
            "text/plain": [
              "<AxesSubplot:xlabel='Area', ylabel='Prevalence Of Undernourishment %'>"
            ]
          },
          "execution_count": 109,
          "metadata": {},
          "output_type": "execute_result"
        },
        {
          "data": {
            "image/png": "[encoded data removed]",
            "text/plain": [
              "<Figure size 432x288 with 1 Axes>"
            ]
          },
          "metadata": {
            "needs_background": "light"
          },
          "output_type": "display_data"
        }
      ],
      "execution_count": 109
    },
    {
      "id": "93953c83",
      "cell_type": "markdown",
      "source": "### Advanced Dataset Analysis",
      "metadata": {}
    },
    {
      "id": "f7ce191e",
      "cell_type": "markdown",
      "source": "#### Comparing correlations between data points",
      "metadata": {}
    },
    {
      "id": "ced002fe",
      "cell_type": "markdown",
      "source": "We will be comparing the correlation between arable land and water scarcity.",
      "metadata": {}
    },
    {
      "id": "b9ccba8a",
      "cell_type": "code",
      "source": "merged_data_water_arable = pd.merge(water_access_dataset, arable_land_dataset, on=[\"Area\", \"Year\"]) # Merging the arable land and water scarcity filtered datasets from earlier.",
      "metadata": {},
      "outputs": [],
      "execution_count": 110
    },
    {
      "id": "39e17379",
      "cell_type": "code",
      "source": "merged_data_water_arable",
      "metadata": {},
      "outputs": [
        {
          "data": {
            "text/html": [
              "<div>\n",
              "<style scoped>\n",
              "    .dataframe tbody tr th:only-of-type {\n",
              "        vertical-align: middle;\n",
              "    }\n",
              "\n",
              "    .dataframe tbody tr th {\n",
              "        vertical-align: top;\n",
              "    }\n",
              "\n",
              "    .dataframe thead th {\n",
              "        text-align: right;\n",
              "    }\n",
              "</style>\n",
              "<table border=\"1\" class=\"dataframe\">\n",
              "  <thead>\n",
              "    <tr style=\"text-align: right;\">\n",
              "      <th></th>\n",
              "      <th>VariableGroup_x</th>\n",
              "      <th>Subgroup_x</th>\n",
              "      <th>Variable_x</th>\n",
              "      <th>Area</th>\n",
              "      <th>Year</th>\n",
              "      <th>Value_x</th>\n",
              "      <th>Unit_x</th>\n",
              "      <th>VariableGroup_y</th>\n",
              "      <th>Subgroup_y</th>\n",
              "      <th>Variable_y</th>\n",
              "      <th>Value_y</th>\n",
              "      <th>Unit_y</th>\n",
              "    </tr>\n",
              "  </thead>\n",
              "  <tbody>\n",
              "    <tr>\n",
              "      <th>0</th>\n",
              "      <td>Environment and health</td>\n",
              "      <td>Access to improved drinking water source</td>\n",
              "      <td>Total population with access to safe drinking-...</td>\n",
              "      <td>Afghanistan</td>\n",
              "      <td>2012</td>\n",
              "      <td>51.6</td>\n",
              "      <td>%</td>\n",
              "      <td>Geography and population</td>\n",
              "      <td>Land use</td>\n",
              "      <td>Arable land area</td>\n",
              "      <td>7790.0</td>\n",
              "      <td>1000 ha</td>\n",
              "    </tr>\n",
              "    <tr>\n",
              "      <th>1</th>\n",
              "      <td>Environment and health</td>\n",
              "      <td>Access to improved drinking water source</td>\n",
              "      <td>Total population with access to safe drinking-...</td>\n",
              "      <td>Afghanistan</td>\n",
              "      <td>2013</td>\n",
              "      <td>53.4</td>\n",
              "      <td>%</td>\n",
              "      <td>Geography and population</td>\n",
              "      <td>Land use</td>\n",
              "      <td>Arable land area</td>\n",
              "      <td>7785.0</td>\n",
              "      <td>1000 ha</td>\n",
              "    </tr>\n",
              "    <tr>\n",
              "      <th>2</th>\n",
              "      <td>Environment and health</td>\n",
              "      <td>Access to improved drinking water source</td>\n",
              "      <td>Total population with access to safe drinking-...</td>\n",
              "      <td>Afghanistan</td>\n",
              "      <td>2014</td>\n",
              "      <td>55.2</td>\n",
              "      <td>%</td>\n",
              "      <td>Geography and population</td>\n",
              "      <td>Land use</td>\n",
              "      <td>Arable land area</td>\n",
              "      <td>7771.0</td>\n",
              "      <td>1000 ha</td>\n",
              "    </tr>\n",
              "    <tr>\n",
              "      <th>3</th>\n",
              "      <td>Environment and health</td>\n",
              "      <td>Access to improved drinking water source</td>\n",
              "      <td>Total population with access to safe drinking-...</td>\n",
              "      <td>Afghanistan</td>\n",
              "      <td>2015</td>\n",
              "      <td>55.3</td>\n",
              "      <td>%</td>\n",
              "      <td>Geography and population</td>\n",
              "      <td>Land use</td>\n",
              "      <td>Arable land area</td>\n",
              "      <td>7765.0</td>\n",
              "      <td>1000 ha</td>\n",
              "    </tr>\n",
              "    <tr>\n",
              "      <th>4</th>\n",
              "      <td>Environment and health</td>\n",
              "      <td>Access to improved drinking water source</td>\n",
              "      <td>Total population with access to safe drinking-...</td>\n",
              "      <td>Afghanistan</td>\n",
              "      <td>2016</td>\n",
              "      <td>55.3</td>\n",
              "      <td>%</td>\n",
              "      <td>Geography and population</td>\n",
              "      <td>Land use</td>\n",
              "      <td>Arable land area</td>\n",
              "      <td>7729.0</td>\n",
              "      <td>1000 ha</td>\n",
              "    </tr>\n",
              "    <tr>\n",
              "      <th>...</th>\n",
              "      <td>...</td>\n",
              "      <td>...</td>\n",
              "      <td>...</td>\n",
              "      <td>...</td>\n",
              "      <td>...</td>\n",
              "      <td>...</td>\n",
              "      <td>...</td>\n",
              "      <td>...</td>\n",
              "      <td>...</td>\n",
              "      <td>...</td>\n",
              "      <td>...</td>\n",
              "      <td>...</td>\n",
              "    </tr>\n",
              "    <tr>\n",
              "      <th>295</th>\n",
              "      <td>Environment and health</td>\n",
              "      <td>Access to improved drinking water source</td>\n",
              "      <td>Total population with access to safe drinking-...</td>\n",
              "      <td>Zambia</td>\n",
              "      <td>2017</td>\n",
              "      <td>65.4</td>\n",
              "      <td>%</td>\n",
              "      <td>Geography and population</td>\n",
              "      <td>Land use</td>\n",
              "      <td>Arable land area</td>\n",
              "      <td>3800.0</td>\n",
              "      <td>1000 ha</td>\n",
              "    </tr>\n",
              "    <tr>\n",
              "      <th>296</th>\n",
              "      <td>Environment and health</td>\n",
              "      <td>Access to improved drinking water source</td>\n",
              "      <td>Total population with access to safe drinking-...</td>\n",
              "      <td>Zambia</td>\n",
              "      <td>2018</td>\n",
              "      <td>65.4</td>\n",
              "      <td>%</td>\n",
              "      <td>Geography and population</td>\n",
              "      <td>Land use</td>\n",
              "      <td>Arable land area</td>\n",
              "      <td>3800.0</td>\n",
              "      <td>1000 ha</td>\n",
              "    </tr>\n",
              "    <tr>\n",
              "      <th>297</th>\n",
              "      <td>Environment and health</td>\n",
              "      <td>Access to improved drinking water source</td>\n",
              "      <td>Total population with access to safe drinking-...</td>\n",
              "      <td>Zambia</td>\n",
              "      <td>2019</td>\n",
              "      <td>65.4</td>\n",
              "      <td>%</td>\n",
              "      <td>Geography and population</td>\n",
              "      <td>Land use</td>\n",
              "      <td>Arable land area</td>\n",
              "      <td>3800.0</td>\n",
              "      <td>1000 ha</td>\n",
              "    </tr>\n",
              "    <tr>\n",
              "      <th>298</th>\n",
              "      <td>Environment and health</td>\n",
              "      <td>Access to improved drinking water source</td>\n",
              "      <td>Total population with access to safe drinking-...</td>\n",
              "      <td>Zambia</td>\n",
              "      <td>2020</td>\n",
              "      <td>65.4</td>\n",
              "      <td>%</td>\n",
              "      <td>Geography and population</td>\n",
              "      <td>Land use</td>\n",
              "      <td>Arable land area</td>\n",
              "      <td>3800.0</td>\n",
              "      <td>1000 ha</td>\n",
              "    </tr>\n",
              "    <tr>\n",
              "      <th>299</th>\n",
              "      <td>Environment and health</td>\n",
              "      <td>Access to improved drinking water source</td>\n",
              "      <td>Total population with access to safe drinking-...</td>\n",
              "      <td>Zambia</td>\n",
              "      <td>2021</td>\n",
              "      <td>65.4</td>\n",
              "      <td>%</td>\n",
              "      <td>Geography and population</td>\n",
              "      <td>Land use</td>\n",
              "      <td>Arable land area</td>\n",
              "      <td>3800.0</td>\n",
              "      <td>1000 ha</td>\n",
              "    </tr>\n",
              "  </tbody>\n",
              "</table>\n",
              "<p>300 rows × 12 columns</p>\n",
              "</div>"
            ],
            "text/plain": [
              "            VariableGroup_x                                Subgroup_x  \\\n",
              "0    Environment and health  Access to improved drinking water source   \n",
              "1    Environment and health  Access to improved drinking water source   \n",
              "2    Environment and health  Access to improved drinking water source   \n",
              "3    Environment and health  Access to improved drinking water source   \n",
              "4    Environment and health  Access to improved drinking water source   \n",
              "..                      ...                                       ...   \n",
              "295  Environment and health  Access to improved drinking water source   \n",
              "296  Environment and health  Access to improved drinking water source   \n",
              "297  Environment and health  Access to improved drinking water source   \n",
              "298  Environment and health  Access to improved drinking water source   \n",
              "299  Environment and health  Access to improved drinking water source   \n",
              "\n",
              "                                            Variable_x         Area  Year  \\\n",
              "0    Total population with access to safe drinking-...  Afghanistan  2012   \n",
              "1    Total population with access to safe drinking-...  Afghanistan  2013   \n",
              "2    Total population with access to safe drinking-...  Afghanistan  2014   \n",
              "3    Total population with access to safe drinking-...  Afghanistan  2015   \n",
              "4    Total population with access to safe drinking-...  Afghanistan  2016   \n",
              "..                                                 ...          ...   ...   \n",
              "295  Total population with access to safe drinking-...       Zambia  2017   \n",
              "296  Total population with access to safe drinking-...       Zambia  2018   \n",
              "297  Total population with access to safe drinking-...       Zambia  2019   \n",
              "298  Total population with access to safe drinking-...       Zambia  2020   \n",
              "299  Total population with access to safe drinking-...       Zambia  2021   \n",
              "\n",
              "     Value_x Unit_x           VariableGroup_y Subgroup_y        Variable_y  \\\n",
              "0       51.6      %  Geography and population   Land use  Arable land area   \n",
              "1       53.4      %  Geography and population   Land use  Arable land area   \n",
              "2       55.2      %  Geography and population   Land use  Arable land area   \n",
              "3       55.3      %  Geography and population   Land use  Arable land area   \n",
              "4       55.3      %  Geography and population   Land use  Arable land area   \n",
              "..       ...    ...                       ...        ...               ...   \n",
              "295     65.4      %  Geography and population   Land use  Arable land area   \n",
              "296     65.4      %  Geography and population   Land use  Arable land area   \n",
              "297     65.4      %  Geography and population   Land use  Arable land area   \n",
              "298     65.4      %  Geography and population   Land use  Arable land area   \n",
              "299     65.4      %  Geography and population   Land use  Arable land area   \n",
              "\n",
              "     Value_y   Unit_y  \n",
              "0     7790.0  1000 ha  \n",
              "1     7785.0  1000 ha  \n",
              "2     7771.0  1000 ha  \n",
              "3     7765.0  1000 ha  \n",
              "4     7729.0  1000 ha  \n",
              "..       ...      ...  \n",
              "295   3800.0  1000 ha  \n",
              "296   3800.0  1000 ha  \n",
              "297   3800.0  1000 ha  \n",
              "298   3800.0  1000 ha  \n",
              "299   3800.0  1000 ha  \n",
              "\n",
              "[300 rows x 12 columns]"
            ]
          },
          "execution_count": 111,
          "metadata": {},
          "output_type": "execute_result"
        }
      ],
      "execution_count": 111
    },
    {
      "id": "4308c0dd",
      "cell_type": "code",
      "source": "plt.figure(figsize=(10, 6)) # Size of graph\nplt.scatter(merged_data_water_arable[\"Value_x\"], merged_data_water_arable[\"Value_y\"], alpha=0.6) # The values selected are from the previous datasets\n\nplt.title('Correlation between Access to Safe Drinking Water and Arable Land')\nplt.xlabel('Access to Safe Drinking Water (%)')\nplt.ylabel('Arable Land (1000ha)')\nplt.grid(True)",
      "metadata": {},
      "outputs": [
        {
          "data": {
            "image/png": "[encoded data removed]",
            "text/plain": [
              "<Figure size 720x432 with 1 Axes>"
            ]
          },
          "metadata": {
            "needs_background": "light"
          },
          "output_type": "display_data"
        }
      ],
      "execution_count": 119
    },
    {
      "id": "d29717f6-9bcd-4e9f-9701-45c8dd525030",
      "cell_type": "code",
      "source": "plt.show() # Graph below of the correlation between safe drinking water and arable land.",
      "metadata": {
        "trusted": true
      },
      "outputs": [],
      "execution_count": null
    },
    {
      "id": "6c2c3641-cca3-45dd-a2c7-4dbc3a1fb5a3",
      "cell_type": "markdown",
      "source": "There isn't any real correlation between arable land and access to drinking water, the vast majority of countries are small so they have under 20000 (1000ha) of arable land regardless. However, it is interesting to note that all the large countries with a lot of arable land have good access to water. That is because the largest countries in the world have the greatest economies and they tend to control territory with large diverse biomes; this increases the likelihood of their land containing rivers, lakes, and water reservoirs. It is usually smaller to mid-sized countries around the equator that suffer from lack of clean water.",
      "metadata": {}
    },
    {
      "id": "1fb2698c-f2cb-4be0-8c09-2e6af3692720",
      "cell_type": "markdown",
      "source": "#### Correlation between GDP per capita & Undernourishment",
      "metadata": {}
    },
    {
      "id": "1427b58f-3f02-4b92-af32-18a07224dbae",
      "cell_type": "markdown",
      "source": "Comparing GDP per capita and undernourishment is going to give a obvious and straightforward answer. The wealthier the citizens are the less likely that they have problems accessing food.",
      "metadata": {}
    },
    {
      "id": "cf98042d-9550-4786-adf0-c51fefd152c6",
      "cell_type": "code",
      "source": "merged_data_GDP_undernourishment = pd.merge(GDP_per_capita_dataset, undernourishment_dataset, on=[\"Area\", \"Year\"]) # Merging the GDP per capita and prevalence of undernourishment filtered datasets from earlier.",
      "metadata": {
        "trusted": true
      },
      "outputs": [],
      "execution_count": null
    },
    {
      "id": "90e74dc8-939b-4f3e-ac1e-3808298e9fbd",
      "cell_type": "code",
      "source": "plt.figure(figsize=(10, 6)) # Size of graph\nplt.scatter(merged_data_GDP_undernourishment[\"Value_x\"], merged_data_GDP_undernourishment[\"Value_y\"], alpha=0.6) # The values selected are from the previous datasets\n\nplt.title('Correlation between GDP per capita and undernourishment')\nplt.xlabel('Prevalence of undernourishment (%)')\nplt.ylabel('GDP per Capita (100$)')\nplt.grid(True)",
      "metadata": {
        "trusted": true
      },
      "outputs": [],
      "execution_count": null
    },
    {
      "id": "3ca09524-2ec7-46ce-b783-770e56e1aff6",
      "cell_type": "code",
      "source": "plt.show() # Graph below of the correlation between GDP per capita and prevalence of undernourishment.",
      "metadata": {
        "trusted": true
      },
      "outputs": [],
      "execution_count": null
    },
    {
      "id": "de164b9a-64ba-47d7-a712-f60601c4a848",
      "cell_type": "markdown",
      "source": "The results of the scatter graph clearly supports my hypothesis.",
      "metadata": {}
    },
    {
      "id": "adea26ca-e986-4638-a247-6f44903faaa9",
      "cell_type": "markdown",
      "source": "#### Correlation between GDP per capita & agriculture value added to GDP",
      "metadata": {}
    },
    {
      "id": "cf583237-b8c5-4bd1-829b-d9e0947c60dc",
      "cell_type": "markdown",
      "source": "Now I will be considering a statistic not used so far in this project. Agricultural value added to GDP as a percentage, the question I will try to answer is the relationship between GDP per capita and the percentage of a countries economy dominated by agriculture. ",
      "metadata": {}
    },
    {
      "id": "0da30a35-7793-43e1-ae89-70cc420455d5",
      "cell_type": "code",
      "source": "# Extracting the new data for every country.\n# Filter the dataset for rows where 'Variable' is 'Agriculture, value added (% GDP)'\nagriculture_value_added_dataset = dataset_filtered[dataset_filtered[\"Variable\"] == \"Agriculture, value added (% GDP)\"]\n\n# Group by 'Area' and calculate the mean of 'Value'\nagriculture_value_added = agriculture_value_added_dataset.groupby(\"Area\")[\"Value\"].mean()",
      "metadata": {
        "trusted": true
      },
      "outputs": [],
      "execution_count": null
    },
    {
      "id": "2fcc1fdb-59a8-43fe-b37a-ce0f8534828e",
      "cell_type": "code",
      "source": "merged_data_GDP_and_agricultural_GDP = pd.merge(GDP_per_capita_dataset, agriculture_value_added_dataset, on=[\"Area\", \"Year\"]) # Merging the GDP per capita and agriculture as added GDP to the economy filtered datasets from earlier.",
      "metadata": {
        "trusted": true
      },
      "outputs": [],
      "execution_count": null
    },
    {
      "id": "fb3312f2-37c5-4dfc-aa85-75ce1bd18333",
      "cell_type": "code",
      "source": "plt.figure(figsize=(10, 6)) # Size of graph\nplt.scatter(merged_data_GDP_and_agricultural_GDP[\"Value_x\"], merged_data_GDP_and_agricultural_GDP[\"Value_y\"], alpha=0.6) # The values selected are from the previous datasets\n\nplt.title('Correlation between GDP per capita and agricultural GDP')\nplt.xlabel('GDP per Capita (100$)')\nplt.ylabel('Agriculture, value added (% GDP)')\nplt.grid(True)",
      "metadata": {
        "trusted": true
      },
      "outputs": [],
      "execution_count": null
    },
    {
      "id": "79d32e44-65c7-4a19-93d6-d6da7f6b08a1",
      "cell_type": "code",
      "source": "plt.show() # Graph below of the correlation between GDP per capita and prevalence of undernourishment.",
      "metadata": {
        "trusted": true
      },
      "outputs": [],
      "execution_count": null
    },
    {
      "id": "c15f314a-a84b-41dd-9405-529030d823a4",
      "cell_type": "markdown",
      "source": "There is trend indicating that countries whose economies are more dominated by agriculture tend to have lower GDP per capitas. Some larger countries somewhat break this trend.   ",
      "metadata": {}
    },
    {
      "id": "eaf6cb3d-d939-4f2f-9fbd-c94440536b25",
      "cell_type": "markdown",
      "source": "### Regression Analysis",
      "metadata": {}
    },
    {
      "id": "da107c99-4fca-4639-8a05-8dea06406f4a",
      "cell_type": "markdown",
      "source": "I will be demonstrating the use of regression analysis to to examine the relationships of three of the four statistics discussed in the preliminary dataset. The statistic for total arable land shall be replaced by the percentage of total GDP agriculture contributes. This analysis is performed on the filtered dataset which includes 30 countries the datapoints is an average of the data from 2012 to 2021 inclusive.",
      "metadata": {}
    },
    {
      "id": "3743ce3a-5d06-4e4c-9014-960b77e948d7",
      "cell_type": "code",
      "source": "import statsmodels.api as sm\nimport seaborn as sns",
      "metadata": {
        "trusted": true
      },
      "outputs": [],
      "execution_count": null
    },
    {
      "id": "f64caeae-4fff-4f00-8d30-c4d7a5aca028",
      "cell_type": "code",
      "source": "# First, all of the data must be merged into one dataset.\ncombined_variables = mean_GDP_per_capita.merge(prevalence_of_undernourishment, on='Area').merge(agriculture_value_added_dataset, on='Area').merge(mean_access_to_water, on='Area')",
      "metadata": {
        "trusted": true
      },
      "outputs": [],
      "execution_count": null
    },
    {
      "id": "1c501dc2-ca0a-473e-8dbe-a979dcc2c554",
      "cell_type": "code",
      "source": "# Renaming the columns\ncombined_variables = ['Area', 'GDP per capita', 'Undernourishment', 'GDP Agriculture', 'Access to Water']",
      "metadata": {
        "trusted": true
      },
      "outputs": [],
      "execution_count": null
    },
    {
      "id": "a6e3cca3-0181-469f-8766-4e9319493514",
      "cell_type": "code",
      "source": "# Labelling the independent variables X and the dependent variables Y.\nx = combined_variables[['Undernourishment', 'GDP Agriculture', 'Access to Water']]\n\ny = combined_variables['GDP per capita']",
      "metadata": {
        "trusted": true
      },
      "outputs": [],
      "execution_count": null
    },
    {
      "id": "c15acbb2-10ec-41e3-b8ff-22697ad71112",
      "cell_type": "code",
      "source": "# Must include a constant to account for the intercept in the regression model.\nX = sm.add_constant(X)",
      "metadata": {
        "trusted": true
      },
      "outputs": [],
      "execution_count": null
    },
    {
      "id": "8e584dcb-9035-41b7-8c93-aa4bf9caf1fa",
      "cell_type": "code",
      "source": "# Performing regression analysis with model fit.\nmodel = sm.OLS(y, x).fit()\n\nprint(model.summary())",
      "metadata": {
        "trusted": true
      },
      "outputs": [],
      "execution_count": null
    },
    {
      "id": "c2a99598-1ef4-475a-8786-d3dde8fb549f",
      "cell_type": "code",
      "source": "# Plotting the results\nsns.pairplot(combined_variables, x_vars = ['Undernourishment', 'GDP Agriculture', 'Access to Water'], y_vars = 'GDP per capita', kind='reg', height=5)",
      "metadata": {
        "trusted": true
      },
      "outputs": [],
      "execution_count": null
    },
    {
      "id": "d2fd221c-f834-47b0-a5cf-390861e411d6",
      "cell_type": "markdown",
      "source": "#### Summary of Plot and Findings",
      "metadata": {}
    },
    {
      "id": "ba73c1f6-f833-4750-9caa-fa011c478772",
      "cell_type": "markdown",
      "source": "",
      "metadata": {}
    },
    {
      "id": "436d6689-2815-4336-bac8-a82fc05074d9",
      "cell_type": "markdown",
      "source": "### Machine Learning Models",
      "metadata": {}
    },
    {
      "id": "ce4e7926-9c94-4f74-9f83-12a8698789b6",
      "cell_type": "markdown",
      "source": "The aim of this section is to test the possibility of using machine learning as a tool to predict GDP per capita of a country from the values of undernourishment, access to clean water and total population. We have already discovered that undernourishment and access to clean water negatively correlate with GDP per capita so, theoretically, a model should be able to discern a strong relationship and make accurate predictions. ",
      "metadata": {}
    },
    {
      "id": "41c0d56c-b3a4-475a-8ba9-a8c967440faa",
      "cell_type": "code",
      "source": "from sklearn.model",
      "metadata": {
        "trusted": true
      },
      "outputs": [],
      "execution_count": null
    },
    {
      "id": "6ebf1057-c037-4f68-b026-cac434e0dc31",
      "cell_type": "code",
      "source": "# Split the dataset 80/20:24/6 countries training set/test set.\nx_train, x_test, y_train, y_test = train_test_split(x, y, test_size=0.2, random_state=42)",
      "metadata": {
        "trusted": true
      },
      "outputs": [],
      "execution_count": null
    },
    {
      "id": "a4832daf-2627-4e6b-b754-0609d5f33f55",
      "cell_type": "code",
      "source": "# Initialize and train the linear regression model using the training data.\nmodel = LinearRegression()\nmodel.fit(x_train, y_train)",
      "metadata": {
        "trusted": true
      },
      "outputs": [],
      "execution_count": null
    },
    {
      "id": "19f647fa-6c7a-411c-8d99-5c5a61338291",
      "cell_type": "code",
      "source": "# Making predictions\ny_pred = model.predict(x_test)",
      "metadata": {
        "trusted": true
      },
      "outputs": [],
      "execution_count": null
    },
    {
      "id": "212b1eae-e26b-4bf9-8ffe-7905a21ec987",
      "cell_type": "markdown",
      "source": "R-squared is a value from 0 to 1 that explains how much the variability in the output variable can be explained by the input variables that the model used. Mean squared error is the average of squared differences between predicted and actual values. It is useful for when we have extreme unexpected values.",
      "metadata": {}
    },
    {
      "id": "f836d0b4-763b-43d6-8bab-76ba7bfdca91",
      "cell_type": "code",
      "source": "# Evaluating the accuracy of the model.\nmse = mean_squared_error(y_test, y_pred)\nr2 = r2_score(y_test, y_pred)\n\nprint(f\"Mean squared error: {mse}\")\nprint(f\"R-squared: {r2}\")",
      "metadata": {
        "trusted": true
      },
      "outputs": [],
      "execution_count": null
    },
    {
      "id": "5e3fc408-281e-41e8-b336-f33334e2b0ef",
      "cell_type": "code",
      "source": "plt.scatter(y_test, y_pred)\nplt.xlabel('Actual GDP per capita')\nplt.ylabel('Predicted GDP per capita')\nplt.title('Actual vs predicted GDP per capita')",
      "metadata": {
        "trusted": true
      },
      "outputs": [],
      "execution_count": null
    },
    {
      "id": "05605a16-4514-4714-8e18-77a60d7bbd8d",
      "cell_type": "code",
      "source": "plt.show()",
      "metadata": {
        "trusted": true
      },
      "outputs": [],
      "execution_count": null
    },
    {
      "id": "1d791988-15b7-421e-88d8-1475c40bdc07",
      "cell_type": "markdown",
      "source": "#### Evaluating the Model",
      "metadata": {}
    },
    {
      "id": "79d540d2-d01e-4e75-b60f-799e4864da4e",
      "cell_type": "markdown",
      "source": "",
      "metadata": {}
    },
    {
      "id": "78531141-973b-4350-af93-1439452ad5a0",
      "cell_type": "markdown",
      "source": "### Analysing the Trend over Time for Afghanistan",
      "metadata": {}
    },
    {
      "id": "ea3be66e-98cc-448e-bd15-6eb4988b7b29",
      "cell_type": "markdown",
      "source": "I was able to filter for 'Area' is Afghanistan previously to create a brand new smaller dataset. I will now use that dataset to compare temporal trends in Afghanistan for some major statistics. I will analyse the ",
      "metadata": {}
    },
    {
      "id": "e95f4374-e968-4012-8513-a5b769416941",
      "cell_type": "code",
      "source": "#\nlistVariables = {}",
      "metadata": {
        "trusted": true
      },
      "outputs": [],
      "execution_count": null
    },
    {
      "id": "0cbdae23-e6fb-46fd-bb57-84c6c9d48a09",
      "cell_type": "code",
      "source": "# Filter for the variables I want.\ndataset_afghanistan = dataset_afghanistan[dataset_afghanistan[\"Variable\"].isin(listVariables)]",
      "metadata": {
        "trusted": true
      },
      "outputs": [],
      "execution_count": null
    },
    {
      "id": "628855e1-3e98-4464-91c4-b75ac91f3dee",
      "cell_type": "code",
      "source": "# use plot() method on the dataframe \nfor variable in listVariables:   \n    dataset_afghanistan.plot(variable, 'Value') ",
      "metadata": {
        "trusted": true
      },
      "outputs": [],
      "execution_count": null
    }
  ]
}