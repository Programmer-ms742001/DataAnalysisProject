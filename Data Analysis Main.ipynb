{
 "cells": [
  {
   "cell_type": "markdown",
   "id": "c4c27357",
   "metadata": {},
   "source": [
    "# Data Analysis Project"
   ]
  },
  {
   "cell_type": "markdown",
   "id": "8ea44d68",
   "metadata": {},
   "source": [
    "### Pandas API\n",
    "Pandas is an open-source Python library with powerful and built-in methods to efficiently clean, analyze, and manipulate datasets. Developed by Wes McKinney in 2008, this powerful package can easily blend with various other data science modules in Python.\n",
    "\n",
    "Pandas is built on top of the NumPy library, i.e., its data structures Series and DataFrame are the upgraded versions of NumPy arrays."
   ]
  },
  {
   "cell_type": "code",
   "execution_count": 3,
   "id": "e76d0c0c",
   "metadata": {},
   "outputs": [],
   "source": [
    "import pandas as pd\n",
    "import numpy as np"
   ]
  },
  {
   "cell_type": "markdown",
   "id": "93269f13",
   "metadata": {},
   "source": [
    "Pandas conveniently provides a function to read and save excel files. "
   ]
  },
  {
   "cell_type": "markdown",
   "id": "b7063569",
   "metadata": {},
   "source": [
    "### Dataset Pre-analysis"
   ]
  },
  {
   "cell_type": "code",
   "execution_count": 12,
   "id": "140d0c88",
   "metadata": {},
   "outputs": [],
   "source": [
    "dataset = pd.read_excel(\"C:/Users/ms742/DataAnalysisProject/AQUASTAT Dataset.xlsx\")"
   ]
  },
  {
   "cell_type": "markdown",
   "id": "d1e13d8d",
   "metadata": {},
   "source": [
    "Here is the first 10 rows of the dataset. The dataset is vertically sorted by the subgroup and variable and then every area or country is grouped together in ascending order of year."
   ]
  },
  {
   "cell_type": "code",
   "execution_count": 14,
   "id": "ad0bae89",
   "metadata": {},
   "outputs": [
    {
     "data": {
      "text/html": [
       "<div>\n",
       "<style scoped>\n",
       "    .dataframe tbody tr th:only-of-type {\n",
       "        vertical-align: middle;\n",
       "    }\n",
       "\n",
       "    .dataframe tbody tr th {\n",
       "        vertical-align: top;\n",
       "    }\n",
       "\n",
       "    .dataframe thead th {\n",
       "        text-align: right;\n",
       "    }\n",
       "</style>\n",
       "<table border=\"1\" class=\"dataframe\">\n",
       "  <thead>\n",
       "    <tr style=\"text-align: right;\">\n",
       "      <th></th>\n",
       "      <th>VariableGroup</th>\n",
       "      <th>Subgroup</th>\n",
       "      <th>Variable</th>\n",
       "      <th>Area</th>\n",
       "      <th>Year</th>\n",
       "      <th>Value</th>\n",
       "      <th>Unit</th>\n",
       "      <th>Symbol</th>\n",
       "      <th>IsAggregate</th>\n",
       "    </tr>\n",
       "  </thead>\n",
       "  <tbody>\n",
       "    <tr>\n",
       "      <th>0</th>\n",
       "      <td>Environment and health</td>\n",
       "      <td>Access to improved drinking water source</td>\n",
       "      <td>Rural population with access to safe drinking-...</td>\n",
       "      <td>Afghanistan</td>\n",
       "      <td>2012</td>\n",
       "      <td>43.7</td>\n",
       "      <td>%</td>\n",
       "      <td>X</td>\n",
       "      <td>False</td>\n",
       "    </tr>\n",
       "    <tr>\n",
       "      <th>1</th>\n",
       "      <td>Environment and health</td>\n",
       "      <td>Access to improved drinking water source</td>\n",
       "      <td>Rural population with access to safe drinking-...</td>\n",
       "      <td>Afghanistan</td>\n",
       "      <td>2013</td>\n",
       "      <td>45.4</td>\n",
       "      <td>%</td>\n",
       "      <td>X</td>\n",
       "      <td>False</td>\n",
       "    </tr>\n",
       "    <tr>\n",
       "      <th>2</th>\n",
       "      <td>Environment and health</td>\n",
       "      <td>Access to improved drinking water source</td>\n",
       "      <td>Rural population with access to safe drinking-...</td>\n",
       "      <td>Afghanistan</td>\n",
       "      <td>2014</td>\n",
       "      <td>47.0</td>\n",
       "      <td>%</td>\n",
       "      <td>X</td>\n",
       "      <td>False</td>\n",
       "    </tr>\n",
       "    <tr>\n",
       "      <th>3</th>\n",
       "      <td>Environment and health</td>\n",
       "      <td>Access to improved drinking water source</td>\n",
       "      <td>Rural population with access to safe drinking-...</td>\n",
       "      <td>Afghanistan</td>\n",
       "      <td>2015</td>\n",
       "      <td>47.0</td>\n",
       "      <td>%</td>\n",
       "      <td>X</td>\n",
       "      <td>False</td>\n",
       "    </tr>\n",
       "    <tr>\n",
       "      <th>4</th>\n",
       "      <td>Environment and health</td>\n",
       "      <td>Access to improved drinking water source</td>\n",
       "      <td>Rural population with access to safe drinking-...</td>\n",
       "      <td>Afghanistan</td>\n",
       "      <td>2016</td>\n",
       "      <td>47.0</td>\n",
       "      <td>%</td>\n",
       "      <td>I</td>\n",
       "      <td>False</td>\n",
       "    </tr>\n",
       "    <tr>\n",
       "      <th>5</th>\n",
       "      <td>Environment and health</td>\n",
       "      <td>Access to improved drinking water source</td>\n",
       "      <td>Rural population with access to safe drinking-...</td>\n",
       "      <td>Afghanistan</td>\n",
       "      <td>2017</td>\n",
       "      <td>47.0</td>\n",
       "      <td>%</td>\n",
       "      <td>I</td>\n",
       "      <td>False</td>\n",
       "    </tr>\n",
       "    <tr>\n",
       "      <th>6</th>\n",
       "      <td>Environment and health</td>\n",
       "      <td>Access to improved drinking water source</td>\n",
       "      <td>Rural population with access to safe drinking-...</td>\n",
       "      <td>Afghanistan</td>\n",
       "      <td>2018</td>\n",
       "      <td>47.0</td>\n",
       "      <td>%</td>\n",
       "      <td>I</td>\n",
       "      <td>False</td>\n",
       "    </tr>\n",
       "    <tr>\n",
       "      <th>7</th>\n",
       "      <td>Environment and health</td>\n",
       "      <td>Access to improved drinking water source</td>\n",
       "      <td>Rural population with access to safe drinking-...</td>\n",
       "      <td>Afghanistan</td>\n",
       "      <td>2019</td>\n",
       "      <td>47.0</td>\n",
       "      <td>%</td>\n",
       "      <td>I</td>\n",
       "      <td>False</td>\n",
       "    </tr>\n",
       "    <tr>\n",
       "      <th>8</th>\n",
       "      <td>Environment and health</td>\n",
       "      <td>Access to improved drinking water source</td>\n",
       "      <td>Rural population with access to safe drinking-...</td>\n",
       "      <td>Afghanistan</td>\n",
       "      <td>2020</td>\n",
       "      <td>47.0</td>\n",
       "      <td>%</td>\n",
       "      <td>I</td>\n",
       "      <td>False</td>\n",
       "    </tr>\n",
       "    <tr>\n",
       "      <th>9</th>\n",
       "      <td>Environment and health</td>\n",
       "      <td>Access to improved drinking water source</td>\n",
       "      <td>Rural population with access to safe drinking-...</td>\n",
       "      <td>Afghanistan</td>\n",
       "      <td>2021</td>\n",
       "      <td>47.0</td>\n",
       "      <td>%</td>\n",
       "      <td>I</td>\n",
       "      <td>False</td>\n",
       "    </tr>\n",
       "  </tbody>\n",
       "</table>\n",
       "</div>"
      ],
      "text/plain": [
       "            VariableGroup                                  Subgroup  \\\n",
       "0  Environment and health  Access to improved drinking water source   \n",
       "1  Environment and health  Access to improved drinking water source   \n",
       "2  Environment and health  Access to improved drinking water source   \n",
       "3  Environment and health  Access to improved drinking water source   \n",
       "4  Environment and health  Access to improved drinking water source   \n",
       "5  Environment and health  Access to improved drinking water source   \n",
       "6  Environment and health  Access to improved drinking water source   \n",
       "7  Environment and health  Access to improved drinking water source   \n",
       "8  Environment and health  Access to improved drinking water source   \n",
       "9  Environment and health  Access to improved drinking water source   \n",
       "\n",
       "                                            Variable         Area  Year  \\\n",
       "0  Rural population with access to safe drinking-...  Afghanistan  2012   \n",
       "1  Rural population with access to safe drinking-...  Afghanistan  2013   \n",
       "2  Rural population with access to safe drinking-...  Afghanistan  2014   \n",
       "3  Rural population with access to safe drinking-...  Afghanistan  2015   \n",
       "4  Rural population with access to safe drinking-...  Afghanistan  2016   \n",
       "5  Rural population with access to safe drinking-...  Afghanistan  2017   \n",
       "6  Rural population with access to safe drinking-...  Afghanistan  2018   \n",
       "7  Rural population with access to safe drinking-...  Afghanistan  2019   \n",
       "8  Rural population with access to safe drinking-...  Afghanistan  2020   \n",
       "9  Rural population with access to safe drinking-...  Afghanistan  2021   \n",
       "\n",
       "   Value Unit Symbol  IsAggregate  \n",
       "0   43.7    %      X        False  \n",
       "1   45.4    %      X        False  \n",
       "2   47.0    %      X        False  \n",
       "3   47.0    %      X        False  \n",
       "4   47.0    %      I        False  \n",
       "5   47.0    %      I        False  \n",
       "6   47.0    %      I        False  \n",
       "7   47.0    %      I        False  \n",
       "8   47.0    %      I        False  \n",
       "9   47.0    %      I        False  "
      ]
     },
     "execution_count": 14,
     "metadata": {},
     "output_type": "execute_result"
    }
   ],
   "source": [
    "dataset.head(10)"
   ]
  },
  {
   "cell_type": "code",
   "execution_count": 15,
   "id": "16c49b5f",
   "metadata": {},
   "outputs": [
    {
     "name": "stdout",
     "output_type": "stream",
     "text": [
      "<class 'pandas.core.frame.DataFrame'>\n",
      "RangeIndex: 50000 entries, 0 to 49999\n",
      "Data columns (total 9 columns):\n",
      " #   Column         Non-Null Count  Dtype  \n",
      "---  ------         --------------  -----  \n",
      " 0   VariableGroup  50000 non-null  object \n",
      " 1   Subgroup       50000 non-null  object \n",
      " 2   Variable       50000 non-null  object \n",
      " 3   Area           50000 non-null  object \n",
      " 4   Year           50000 non-null  int64  \n",
      " 5   Value          50000 non-null  float64\n",
      " 6   Unit           43041 non-null  object \n",
      " 7   Symbol         50000 non-null  object \n",
      " 8   IsAggregate    50000 non-null  bool   \n",
      "dtypes: bool(1), float64(1), int64(1), object(6)\n",
      "memory usage: 3.1+ MB\n"
     ]
    }
   ],
   "source": [
    "dataset.info() # Function retrieves technical info"
   ]
  },
  {
   "cell_type": "markdown",
   "id": "292a4d83",
   "metadata": {},
   "source": [
    "All of the entries listed as 'object' are character strings. The symbol 'I' means imputed, 'X' means external and 'E' means estimate. This indicates how the information was sourced. For the purposes of this project the symbol column shall be discarded and the isAggregate column also. 'isAggregate' is true if the area is a combination of multiple countries or regions such as 'South-east Asia'. A selection few countries shall be included in the cleaned dataset not regions; therefore the isAggregate is not necessary."
   ]
  },
  {
   "cell_type": "markdown",
   "id": "401adaf7",
   "metadata": {},
   "source": [
    "### Dataset Filtering & Cleaning"
   ]
  },
  {
   "cell_type": "code",
   "execution_count": 24,
   "id": "57bd64aa",
   "metadata": {},
   "outputs": [],
   "source": [
    "dataset_afghanistan = dataset[dataset[\"Area\"] == \"Afghanistan\"]"
   ]
  },
  {
   "cell_type": "code",
   "execution_count": 17,
   "id": "675ffa49",
   "metadata": {},
   "outputs": [
    {
     "data": {
      "text/html": [
       "<div>\n",
       "<style scoped>\n",
       "    .dataframe tbody tr th:only-of-type {\n",
       "        vertical-align: middle;\n",
       "    }\n",
       "\n",
       "    .dataframe tbody tr th {\n",
       "        vertical-align: top;\n",
       "    }\n",
       "\n",
       "    .dataframe thead th {\n",
       "        text-align: right;\n",
       "    }\n",
       "</style>\n",
       "<table border=\"1\" class=\"dataframe\">\n",
       "  <thead>\n",
       "    <tr style=\"text-align: right;\">\n",
       "      <th></th>\n",
       "      <th>VariableGroup</th>\n",
       "      <th>Subgroup</th>\n",
       "      <th>Variable</th>\n",
       "      <th>Area</th>\n",
       "      <th>Year</th>\n",
       "      <th>Value</th>\n",
       "      <th>Unit</th>\n",
       "      <th>Symbol</th>\n",
       "      <th>IsAggregate</th>\n",
       "    </tr>\n",
       "  </thead>\n",
       "  <tbody>\n",
       "    <tr>\n",
       "      <th>0</th>\n",
       "      <td>Environment and health</td>\n",
       "      <td>Access to improved drinking water source</td>\n",
       "      <td>Rural population with access to safe drinking-...</td>\n",
       "      <td>Afghanistan</td>\n",
       "      <td>2012</td>\n",
       "      <td>43.700000</td>\n",
       "      <td>%</td>\n",
       "      <td>X</td>\n",
       "      <td>False</td>\n",
       "    </tr>\n",
       "    <tr>\n",
       "      <th>1</th>\n",
       "      <td>Environment and health</td>\n",
       "      <td>Access to improved drinking water source</td>\n",
       "      <td>Rural population with access to safe drinking-...</td>\n",
       "      <td>Afghanistan</td>\n",
       "      <td>2013</td>\n",
       "      <td>45.400000</td>\n",
       "      <td>%</td>\n",
       "      <td>X</td>\n",
       "      <td>False</td>\n",
       "    </tr>\n",
       "    <tr>\n",
       "      <th>2</th>\n",
       "      <td>Environment and health</td>\n",
       "      <td>Access to improved drinking water source</td>\n",
       "      <td>Rural population with access to safe drinking-...</td>\n",
       "      <td>Afghanistan</td>\n",
       "      <td>2014</td>\n",
       "      <td>47.000000</td>\n",
       "      <td>%</td>\n",
       "      <td>X</td>\n",
       "      <td>False</td>\n",
       "    </tr>\n",
       "    <tr>\n",
       "      <th>3</th>\n",
       "      <td>Environment and health</td>\n",
       "      <td>Access to improved drinking water source</td>\n",
       "      <td>Rural population with access to safe drinking-...</td>\n",
       "      <td>Afghanistan</td>\n",
       "      <td>2015</td>\n",
       "      <td>47.000000</td>\n",
       "      <td>%</td>\n",
       "      <td>X</td>\n",
       "      <td>False</td>\n",
       "    </tr>\n",
       "    <tr>\n",
       "      <th>4</th>\n",
       "      <td>Environment and health</td>\n",
       "      <td>Access to improved drinking water source</td>\n",
       "      <td>Rural population with access to safe drinking-...</td>\n",
       "      <td>Afghanistan</td>\n",
       "      <td>2016</td>\n",
       "      <td>47.000000</td>\n",
       "      <td>%</td>\n",
       "      <td>I</td>\n",
       "      <td>False</td>\n",
       "    </tr>\n",
       "    <tr>\n",
       "      <th>...</th>\n",
       "      <td>...</td>\n",
       "      <td>...</td>\n",
       "      <td>...</td>\n",
       "      <td>...</td>\n",
       "      <td>...</td>\n",
       "      <td>...</td>\n",
       "      <td>...</td>\n",
       "      <td>...</td>\n",
       "      <td>...</td>\n",
       "    </tr>\n",
       "    <tr>\n",
       "      <th>49875</th>\n",
       "      <td>Irrigation and drainage development</td>\n",
       "      <td>Area equipped for irrigation by source of water</td>\n",
       "      <td>% of area equipped for irrigation by groundwater</td>\n",
       "      <td>Afghanistan</td>\n",
       "      <td>2017</td>\n",
       "      <td>17.992519</td>\n",
       "      <td>%</td>\n",
       "      <td>I</td>\n",
       "      <td>False</td>\n",
       "    </tr>\n",
       "    <tr>\n",
       "      <th>49876</th>\n",
       "      <td>Irrigation and drainage development</td>\n",
       "      <td>Area equipped for irrigation by source of water</td>\n",
       "      <td>% of area equipped for irrigation by groundwater</td>\n",
       "      <td>Afghanistan</td>\n",
       "      <td>2018</td>\n",
       "      <td>17.992519</td>\n",
       "      <td>%</td>\n",
       "      <td>I</td>\n",
       "      <td>False</td>\n",
       "    </tr>\n",
       "    <tr>\n",
       "      <th>49877</th>\n",
       "      <td>Irrigation and drainage development</td>\n",
       "      <td>Area equipped for irrigation by source of water</td>\n",
       "      <td>% of area equipped for irrigation by groundwater</td>\n",
       "      <td>Afghanistan</td>\n",
       "      <td>2019</td>\n",
       "      <td>17.992519</td>\n",
       "      <td>%</td>\n",
       "      <td>I</td>\n",
       "      <td>False</td>\n",
       "    </tr>\n",
       "    <tr>\n",
       "      <th>49878</th>\n",
       "      <td>Irrigation and drainage development</td>\n",
       "      <td>Area equipped for irrigation by source of water</td>\n",
       "      <td>% of area equipped for irrigation by groundwater</td>\n",
       "      <td>Afghanistan</td>\n",
       "      <td>2020</td>\n",
       "      <td>17.992519</td>\n",
       "      <td>%</td>\n",
       "      <td>I</td>\n",
       "      <td>False</td>\n",
       "    </tr>\n",
       "    <tr>\n",
       "      <th>49879</th>\n",
       "      <td>Irrigation and drainage development</td>\n",
       "      <td>Area equipped for irrigation by source of water</td>\n",
       "      <td>% of area equipped for irrigation by groundwater</td>\n",
       "      <td>Afghanistan</td>\n",
       "      <td>2021</td>\n",
       "      <td>17.992519</td>\n",
       "      <td>%</td>\n",
       "      <td>I</td>\n",
       "      <td>False</td>\n",
       "    </tr>\n",
       "  </tbody>\n",
       "</table>\n",
       "<p>259 rows × 9 columns</p>\n",
       "</div>"
      ],
      "text/plain": [
       "                             VariableGroup  \\\n",
       "0                   Environment and health   \n",
       "1                   Environment and health   \n",
       "2                   Environment and health   \n",
       "3                   Environment and health   \n",
       "4                   Environment and health   \n",
       "...                                    ...   \n",
       "49875  Irrigation and drainage development   \n",
       "49876  Irrigation and drainage development   \n",
       "49877  Irrigation and drainage development   \n",
       "49878  Irrigation and drainage development   \n",
       "49879  Irrigation and drainage development   \n",
       "\n",
       "                                              Subgroup  \\\n",
       "0             Access to improved drinking water source   \n",
       "1             Access to improved drinking water source   \n",
       "2             Access to improved drinking water source   \n",
       "3             Access to improved drinking water source   \n",
       "4             Access to improved drinking water source   \n",
       "...                                                ...   \n",
       "49875  Area equipped for irrigation by source of water   \n",
       "49876  Area equipped for irrigation by source of water   \n",
       "49877  Area equipped for irrigation by source of water   \n",
       "49878  Area equipped for irrigation by source of water   \n",
       "49879  Area equipped for irrigation by source of water   \n",
       "\n",
       "                                                Variable         Area  Year  \\\n",
       "0      Rural population with access to safe drinking-...  Afghanistan  2012   \n",
       "1      Rural population with access to safe drinking-...  Afghanistan  2013   \n",
       "2      Rural population with access to safe drinking-...  Afghanistan  2014   \n",
       "3      Rural population with access to safe drinking-...  Afghanistan  2015   \n",
       "4      Rural population with access to safe drinking-...  Afghanistan  2016   \n",
       "...                                                  ...          ...   ...   \n",
       "49875  % of area equipped for irrigation by groundwater   Afghanistan  2017   \n",
       "49876  % of area equipped for irrigation by groundwater   Afghanistan  2018   \n",
       "49877  % of area equipped for irrigation by groundwater   Afghanistan  2019   \n",
       "49878  % of area equipped for irrigation by groundwater   Afghanistan  2020   \n",
       "49879  % of area equipped for irrigation by groundwater   Afghanistan  2021   \n",
       "\n",
       "           Value Unit Symbol  IsAggregate  \n",
       "0      43.700000    %      X        False  \n",
       "1      45.400000    %      X        False  \n",
       "2      47.000000    %      X        False  \n",
       "3      47.000000    %      X        False  \n",
       "4      47.000000    %      I        False  \n",
       "...          ...  ...    ...          ...  \n",
       "49875  17.992519    %      I        False  \n",
       "49876  17.992519    %      I        False  \n",
       "49877  17.992519    %      I        False  \n",
       "49878  17.992519    %      I        False  \n",
       "49879  17.992519    %      I        False  \n",
       "\n",
       "[259 rows x 9 columns]"
      ]
     },
     "execution_count": 17,
     "metadata": {},
     "output_type": "execute_result"
    }
   ],
   "source": [
    "dataset_afghanistan"
   ]
  },
  {
   "cell_type": "markdown",
   "id": "48140267",
   "metadata": {},
   "source": [
    "As an example I can filter out for only the rows with the country Afghanistan.\n",
    "\n",
    "For the purposes of this dataset I shall include 30 countries. A particular country is not selected for any important reason."
   ]
  },
  {
   "cell_type": "code",
   "execution_count": 22,
   "id": "3d746f64",
   "metadata": {},
   "outputs": [
    {
     "name": "stdout",
     "output_type": "stream",
     "text": [
      "30\n"
     ]
    }
   ],
   "source": [
    "countries = {\"Afghanistan\", \"Mongolia\", \"Iraq\", \"Italy\", \"Slovenia\", \"Tunisia\", \"France\", \"Bolivia\", \"Sudan\", \"Egypt\", \"Japan\", \"Burkina Faso\", \"Kenya\", \"Syria\", \"Azerbaijan\", \"Mexico\", \"Norway\", \"Türkiye\", \"Philipines\", \"Austrailia\", \"Russia\", \"Argentina\", \"Zambia\", \"Jamaica\", \"Finland\", \"Oman\", \"Brazil\", \"Nepal\", \"Vietnam\", \"Switzerland\"}\n",
    "\n",
    "print(len(countries))"
   ]
  },
  {
   "cell_type": "code",
   "execution_count": 25,
   "id": "58a2f7c1",
   "metadata": {},
   "outputs": [],
   "source": [
    "dataset_filtered = dataset[dataset[\"Area\"].isin(countries)]"
   ]
  },
  {
   "cell_type": "code",
   "execution_count": 26,
   "id": "ff24c9f2",
   "metadata": {},
   "outputs": [
    {
     "name": "stdout",
     "output_type": "stream",
     "text": [
      "<class 'pandas.core.frame.DataFrame'>\n",
      "Int64Index: 6218 entries, 0 to 49979\n",
      "Data columns (total 9 columns):\n",
      " #   Column         Non-Null Count  Dtype  \n",
      "---  ------         --------------  -----  \n",
      " 0   VariableGroup  6218 non-null   object \n",
      " 1   Subgroup       6218 non-null   object \n",
      " 2   Variable       6218 non-null   object \n",
      " 3   Area           6218 non-null   object \n",
      " 4   Year           6218 non-null   int64  \n",
      " 5   Value          6218 non-null   float64\n",
      " 6   Unit           5286 non-null   object \n",
      " 7   Symbol         6218 non-null   object \n",
      " 8   IsAggregate    6218 non-null   bool   \n",
      "dtypes: bool(1), float64(1), int64(1), object(6)\n",
      "memory usage: 443.3+ KB\n"
     ]
    }
   ],
   "source": [
    "dataset_filtered.info()"
   ]
  },
  {
   "cell_type": "code",
   "execution_count": 27,
   "id": "0c8f1486",
   "metadata": {},
   "outputs": [
    {
     "data": {
      "text/plain": [
       "24"
      ]
     },
     "execution_count": 27,
     "metadata": {},
     "output_type": "execute_result"
    }
   ],
   "source": [
    "dataset_filtered['Area'].nunique() # Confirming that there are 30 countries in the dataset."
   ]
  },
  {
   "cell_type": "markdown",
   "id": "89e0512b",
   "metadata": {},
   "source": [
    "Initially this gave 24 countries instead of the 30 it should give."
   ]
  },
  {
   "cell_type": "code",
   "execution_count": 78,
   "id": "883d7356",
   "metadata": {},
   "outputs": [
    {
     "name": "stdout",
     "output_type": "stream",
     "text": [
      "Unique values in column 'VariableGroup': ['Afghanistan' 'Argentina' 'Australia' 'Azerbaijan'\n",
      " 'Bolivia (Plurinational State of)' 'Brazil' 'Burkina Faso' 'Egypt'\n",
      " 'Finland' 'France' 'Iraq' 'Italy' 'Jamaica' 'Japan' 'Kenya' 'Mexico'\n",
      " 'Mongolia' 'Nepal' 'Norway' 'Oman' 'Philippines' 'Russian Federation'\n",
      " 'Slovenia' 'Sudan' 'Switzerland' 'Syrian Arab Republic' 'Tunisia'\n",
      " 'Türkiye' 'Viet Nam' 'Zambia']\n"
     ]
    }
   ],
   "source": [
    "for column in dataset_filtered.columns:\n",
    "    if column == 'VariableGroup':\n",
    "        unique_values = dataset_filtered[\"Area\"].unique()\n",
    "        print(f\"Unique values in column '{column}': {unique_values}\")"
   ]
  },
  {
   "cell_type": "code",
   "execution_count": 55,
   "id": "8775b424",
   "metadata": {},
   "outputs": [
    {
     "data": {
      "text/plain": [
       "30"
      ]
     },
     "execution_count": 55,
     "metadata": {},
     "output_type": "execute_result"
    }
   ],
   "source": [
    "# Bolivia (Plurinational State of), Syrian Arab Republic, Philippines, Russian Federation, Viet Nam, and Australia. Were misspelled.\n",
    "\n",
    "countries = {\"Afghanistan\", \"Mongolia\", \"Iraq\", \"Italy\", \"Slovenia\", \"Tunisia\", \"France\", \"Bolivia (Plurinational State of)\", \"Sudan\", \"Egypt\", \"Japan\", \"Burkina Faso\", \"Kenya\", \"Syrian Arab Republic\", \"Azerbaijan\", \"Mexico\", \"Norway\", \"Türkiye\", \"Philippines\", \"Australia\", \"Russian Federation\", \"Argentina\", \"Zambia\", \"Jamaica\", \"Finland\", \"Oman\", \"Brazil\", \"Nepal\", \"Viet Nam\", \"Switzerland\"}\n",
    "\n",
    "dataset_filtered = dataset[dataset[\"Area\"].isin(countries)]\n",
    "\n",
    "dataset_filtered['Area'].nunique()"
   ]
  },
  {
   "cell_type": "markdown",
   "id": "9d7d7324",
   "metadata": {},
   "source": [
    "The error has been rectified, now the unneccsary columns shall be pruned."
   ]
  },
  {
   "cell_type": "code",
   "execution_count": 57,
   "id": "3a65f1c1",
   "metadata": {},
   "outputs": [],
   "source": [
    "dataset_filtered.drop(columns=['Symbol', 'IsAggregate'], inplace=True)"
   ]
  },
  {
   "cell_type": "code",
   "execution_count": 58,
   "id": "bd8a75f7",
   "metadata": {},
   "outputs": [
    {
     "name": "stdout",
     "output_type": "stream",
     "text": [
      "<class 'pandas.core.frame.DataFrame'>\n",
      "Int64Index: 7892 entries, 0 to 49979\n",
      "Data columns (total 7 columns):\n",
      " #   Column         Non-Null Count  Dtype  \n",
      "---  ------         --------------  -----  \n",
      " 0   VariableGroup  7892 non-null   object \n",
      " 1   Subgroup       7892 non-null   object \n",
      " 2   Variable       7892 non-null   object \n",
      " 3   Area           7892 non-null   object \n",
      " 4   Year           7892 non-null   int64  \n",
      " 5   Value          7892 non-null   float64\n",
      " 6   Unit           6726 non-null   object \n",
      "dtypes: float64(1), int64(1), object(5)\n",
      "memory usage: 493.2+ KB\n"
     ]
    }
   ],
   "source": [
    "dataset_filtered.info()"
   ]
  },
  {
   "cell_type": "markdown",
   "id": "18942572",
   "metadata": {},
   "source": [
    "### Preliminary Dataset Analysis"
   ]
  },
  {
   "cell_type": "markdown",
   "id": "92549ad5",
   "metadata": {},
   "source": [
    "I am mostly interested in water scarcity in each country so let's calculate the mean access to water for every country for every year included in the filtered dataset."
   ]
  },
  {
   "cell_type": "code",
   "execution_count": 60,
   "id": "dc735eba",
   "metadata": {},
   "outputs": [],
   "source": [
    "# Filter the dataset for rows where 'Variable' is 'Access to safe drinking water'\n",
    "water_access_dataset = dataset_filtered[dataset_filtered[\"Variable\"] == \"Total population with access to safe drinking-water (JMP)\"]"
   ]
  },
  {
   "cell_type": "code",
   "execution_count": 61,
   "id": "4a1bfd01",
   "metadata": {},
   "outputs": [],
   "source": [
    "# Group by 'Area' and calculate the mean of 'Value'\n",
    "mean_access_to_water = water_access_dataset.groupby(\"Area\")[\"Value\"].mean()"
   ]
  },
  {
   "cell_type": "code",
   "execution_count": 76,
   "id": "9f0d343e",
   "metadata": {},
   "outputs": [],
   "source": [
    "# Displaying Results\n",
    "mean_access_to_water.sort_values(ascending=False, inplace=True) # Pandas library function for sorting series."
   ]
  },
  {
   "cell_type": "code",
   "execution_count": 77,
   "id": "4bfb7413",
   "metadata": {},
   "outputs": [
    {
     "data": {
      "text/plain": [
       "Area\n",
       "Italy                               100.00\n",
       "Norway                              100.00\n",
       "Japan                               100.00\n",
       "Switzerland                         100.00\n",
       "Australia                           100.00\n",
       "France                              100.00\n",
       "Finland                             100.00\n",
       "Türkiye                              99.93\n",
       "Slovenia                             99.50\n",
       "Egypt                                99.29\n",
       "Argentina                            99.00\n",
       "Brazil                               98.01\n",
       "Tunisia                              97.58\n",
       "Russian Federation                   96.86\n",
       "Viet Nam                             96.85\n",
       "Mexico                               95.95\n",
       "Jamaica                              93.80\n",
       "Oman                                 93.38\n",
       "Philippines                          91.60\n",
       "Nepal                                91.06\n",
       "Syrian Arab Republic                 90.10\n",
       "Bolivia (Plurinational State of)     89.77\n",
       "Iraq                                 86.54\n",
       "Azerbaijan                           86.50\n",
       "Burkina Faso                         82.18\n",
       "Zambia                               64.92\n",
       "Mongolia                             64.27\n",
       "Kenya                                62.94\n",
       "Sudan                                55.50\n",
       "Afghanistan                          54.73\n",
       "Name: Value, dtype: float64"
      ]
     },
     "execution_count": 77,
     "metadata": {},
     "output_type": "execute_result"
    }
   ],
   "source": [
    "mean_access_to_water"
   ]
  },
  {
   "cell_type": "markdown",
   "id": "5fe64aaf",
   "metadata": {},
   "source": []
  }
 ],
 "metadata": {
  "kernelspec": {
   "display_name": "Python 3 (ipykernel)",
   "language": "python",
   "name": "python3"
  },
  "language_info": {
   "codemirror_mode": {
    "name": "ipython",
    "version": 3
   },
   "file_extension": ".py",
   "mimetype": "text/x-python",
   "name": "python",
   "nbconvert_exporter": "python",
   "pygments_lexer": "ipython3",
   "version": "3.9.7"
  }
 },
 "nbformat": 4,
 "nbformat_minor": 5
}
